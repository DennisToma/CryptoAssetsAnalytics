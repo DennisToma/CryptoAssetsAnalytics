{
 "cells": [
  {
   "cell_type": "markdown",
   "id": "4e74732f-05fe-4f15-ac70-5bc4b374d1e0",
   "metadata": {},
   "source": [
    "## 1. Setup and Environment Preperation"
   ]
  },
  {
   "cell_type": "code",
   "execution_count": 67,
   "id": "55270c32-5939-42ea-9802-cdae827cf128",
   "metadata": {},
   "outputs": [],
   "source": [
    "import os\n",
    "import torch\n",
    "from transformers import RobertaTokenizer, AutoTokenizer, RobertaConfig, RobertaForSequenceClassification, Trainer, TrainingArguments, DataCollatorWithPadding\n",
    "import transformers\n",
    "from datasets import load_dataset\n",
    "import pandas as pd\n",
    "import matplotlib.pyplot as plt\n",
    "import json\n",
    "from datasets import Dataset, DatasetDict\n",
    "import regex as re\n",
    "import wandb\n",
    "from sklearn.metrics import accuracy_score, precision_recall_fscore_support, roc_auc_score\n",
    "import numpy as np\n",
    "from datetime import datetime"
   ]
  },
  {
   "cell_type": "code",
   "execution_count": 4,
   "id": "8c0a92f5-dee4-4f5d-8e05-c71fd001e09c",
   "metadata": {},
   "outputs": [
    {
     "ename": "FileNotFoundError",
     "evalue": "[Errno 2] No such file or directory: 'Crypto/'",
     "output_type": "error",
     "traceback": [
      "\u001b[0;31m---------------------------------------------------------------------------\u001b[0m",
      "\u001b[0;31mFileNotFoundError\u001b[0m                         Traceback (most recent call last)",
      "Cell \u001b[0;32mIn[4], line 2\u001b[0m\n\u001b[1;32m      1\u001b[0m root_folder \u001b[38;5;241m=\u001b[39m \u001b[38;5;124m'\u001b[39m\u001b[38;5;124mCrypto/\u001b[39m\u001b[38;5;124m'\u001b[39m\n\u001b[0;32m----> 2\u001b[0m \u001b[43mos\u001b[49m\u001b[38;5;241;43m.\u001b[39;49m\u001b[43mchdir\u001b[49m\u001b[43m(\u001b[49m\u001b[43mroot_folder\u001b[49m\u001b[43m)\u001b[49m\n",
      "\u001b[0;31mFileNotFoundError\u001b[0m: [Errno 2] No such file or directory: 'Crypto/'"
     ]
    }
   ],
   "source": [
    "root_folder = 'Crypto/'\n",
    "os.chdir(root_folder)"
   ]
  },
  {
   "cell_type": "code",
   "execution_count": 3,
   "id": "e2150b03-e866-4488-9391-a4ebbbb6627e",
   "metadata": {},
   "outputs": [
    {
     "name": "stdout",
     "output_type": "stream",
     "text": [
      "fatal: destination path 'qlora' already exists and is not an empty directory.\n"
     ]
    }
   ],
   "source": [
    "#!git clone https://github.com/artidoro/qlora.git"
   ]
  },
  {
   "cell_type": "code",
   "execution_count": 1,
   "id": "61cd919c-abe4-406b-a171-9d602e619d96",
   "metadata": {
    "scrolled": true
   },
   "outputs": [
    {
     "name": "stdout",
     "output_type": "stream",
     "text": [
      "Collecting bitsandbytes==0.40.0 (from -r qlora/requirements.txt (line 1))\n",
      "  Using cached bitsandbytes-0.40.0-py3-none-any.whl.metadata (9.8 kB)\n",
      "Collecting transformers==4.31.0 (from -r qlora/requirements.txt (line 2))\n",
      "  Using cached transformers-4.31.0-py3-none-any.whl.metadata (116 kB)\n",
      "Collecting peft==0.4.0 (from -r qlora/requirements.txt (line 3))\n",
      "  Using cached peft-0.4.0-py3-none-any.whl.metadata (21 kB)\n",
      "Collecting accelerate==0.21.0 (from -r qlora/requirements.txt (line 4))\n",
      "  Using cached accelerate-0.21.0-py3-none-any.whl.metadata (17 kB)\n",
      "Collecting einops==0.6.1 (from -r qlora/requirements.txt (line 5))\n",
      "  Using cached einops-0.6.1-py3-none-any.whl.metadata (12 kB)\n",
      "Collecting evaluate==0.4.0 (from -r qlora/requirements.txt (line 6))\n",
      "  Using cached evaluate-0.4.0-py3-none-any.whl.metadata (9.4 kB)\n",
      "Collecting scikit-learn==1.2.2 (from -r qlora/requirements.txt (line 7))\n",
      "  Using cached scikit_learn-1.2.2-cp311-cp311-manylinux_2_17_x86_64.manylinux2014_x86_64.whl.metadata (11 kB)\n",
      "Collecting sentencepiece==0.1.99 (from -r qlora/requirements.txt (line 8))\n",
      "  Using cached sentencepiece-0.1.99-cp311-cp311-manylinux_2_17_x86_64.manylinux2014_x86_64.whl.metadata (7.7 kB)\n",
      "Collecting wandb==0.15.3 (from -r qlora/requirements.txt (line 9))\n",
      "  Using cached wandb-0.15.3-py3-none-any.whl.metadata (8.0 kB)\n",
      "Requirement already satisfied: filelock in /opt/conda/lib/python3.11/site-packages (from transformers==4.31.0->-r qlora/requirements.txt (line 2)) (3.13.3)\n",
      "Requirement already satisfied: huggingface-hub<1.0,>=0.14.1 in /opt/conda/lib/python3.11/site-packages (from transformers==4.31.0->-r qlora/requirements.txt (line 2)) (0.22.1)\n",
      "Requirement already satisfied: numpy>=1.17 in /opt/conda/lib/python3.11/site-packages (from transformers==4.31.0->-r qlora/requirements.txt (line 2)) (1.26.4)\n",
      "Requirement already satisfied: packaging>=20.0 in /opt/conda/lib/python3.11/site-packages (from transformers==4.31.0->-r qlora/requirements.txt (line 2)) (23.2)\n",
      "Requirement already satisfied: pyyaml>=5.1 in /opt/conda/lib/python3.11/site-packages (from transformers==4.31.0->-r qlora/requirements.txt (line 2)) (6.0.1)\n",
      "Requirement already satisfied: regex!=2019.12.17 in /opt/conda/lib/python3.11/site-packages (from transformers==4.31.0->-r qlora/requirements.txt (line 2)) (2023.12.25)\n",
      "Requirement already satisfied: requests in /opt/conda/lib/python3.11/site-packages (from transformers==4.31.0->-r qlora/requirements.txt (line 2)) (2.31.0)\n",
      "Collecting tokenizers!=0.11.3,<0.14,>=0.11.1 (from transformers==4.31.0->-r qlora/requirements.txt (line 2))\n",
      "  Using cached tokenizers-0.13.3-cp311-cp311-manylinux_2_17_x86_64.manylinux2014_x86_64.whl.metadata (6.7 kB)\n",
      "Requirement already satisfied: safetensors>=0.3.1 in /opt/conda/lib/python3.11/site-packages (from transformers==4.31.0->-r qlora/requirements.txt (line 2)) (0.4.2)\n",
      "Requirement already satisfied: tqdm>=4.27 in /opt/conda/lib/python3.11/site-packages (from transformers==4.31.0->-r qlora/requirements.txt (line 2)) (4.66.2)\n",
      "Requirement already satisfied: psutil in /opt/conda/lib/python3.11/site-packages (from peft==0.4.0->-r qlora/requirements.txt (line 3)) (5.9.8)\n",
      "Requirement already satisfied: torch>=1.13.0 in /opt/conda/lib/python3.11/site-packages (from peft==0.4.0->-r qlora/requirements.txt (line 3)) (2.1.2+cu121)\n",
      "Collecting datasets>=2.0.0 (from evaluate==0.4.0->-r qlora/requirements.txt (line 6))\n",
      "  Using cached datasets-2.20.0-py3-none-any.whl.metadata (19 kB)\n",
      "Requirement already satisfied: dill in /opt/conda/lib/python3.11/site-packages (from evaluate==0.4.0->-r qlora/requirements.txt (line 6)) (0.3.8)\n",
      "Requirement already satisfied: pandas in /opt/conda/lib/python3.11/site-packages (from evaluate==0.4.0->-r qlora/requirements.txt (line 6)) (1.5.3)\n",
      "Collecting xxhash (from evaluate==0.4.0->-r qlora/requirements.txt (line 6))\n",
      "  Using cached xxhash-3.4.1-cp311-cp311-manylinux_2_17_x86_64.manylinux2014_x86_64.whl.metadata (12 kB)\n",
      "Collecting multiprocess (from evaluate==0.4.0->-r qlora/requirements.txt (line 6))\n",
      "  Using cached multiprocess-0.70.16-py311-none-any.whl.metadata (7.2 kB)\n",
      "Requirement already satisfied: fsspec>=2021.05.0 in /opt/conda/lib/python3.11/site-packages (from fsspec[http]>=2021.05.0->evaluate==0.4.0->-r qlora/requirements.txt (line 6)) (2024.2.0)\n",
      "Collecting responses<0.19 (from evaluate==0.4.0->-r qlora/requirements.txt (line 6))\n",
      "  Using cached responses-0.18.0-py3-none-any.whl.metadata (29 kB)\n",
      "Requirement already satisfied: scipy>=1.3.2 in /opt/conda/lib/python3.11/site-packages (from scikit-learn==1.2.2->-r qlora/requirements.txt (line 7)) (1.12.0)\n",
      "Requirement already satisfied: joblib>=1.1.1 in /opt/conda/lib/python3.11/site-packages (from scikit-learn==1.2.2->-r qlora/requirements.txt (line 7)) (1.3.2)\n",
      "Requirement already satisfied: threadpoolctl>=2.0.0 in /opt/conda/lib/python3.11/site-packages (from scikit-learn==1.2.2->-r qlora/requirements.txt (line 7)) (3.3.0)\n",
      "Requirement already satisfied: Click!=8.0.0,>=7.0 in /opt/conda/lib/python3.11/site-packages (from wandb==0.15.3->-r qlora/requirements.txt (line 9)) (8.1.7)\n",
      "Requirement already satisfied: GitPython!=3.1.29,>=1.0.0 in /opt/conda/lib/python3.11/site-packages (from wandb==0.15.3->-r qlora/requirements.txt (line 9)) (3.1.42)\n",
      "Collecting sentry-sdk>=1.0.0 (from wandb==0.15.3->-r qlora/requirements.txt (line 9))\n",
      "  Using cached sentry_sdk-2.6.0-py2.py3-none-any.whl.metadata (10 kB)\n",
      "Collecting docker-pycreds>=0.4.0 (from wandb==0.15.3->-r qlora/requirements.txt (line 9))\n",
      "  Using cached docker_pycreds-0.4.0-py2.py3-none-any.whl.metadata (1.8 kB)\n",
      "Collecting pathtools (from wandb==0.15.3->-r qlora/requirements.txt (line 9))\n",
      "  Using cached pathtools-0.1.2-py3-none-any.whl\n",
      "Collecting setproctitle (from wandb==0.15.3->-r qlora/requirements.txt (line 9))\n",
      "  Using cached setproctitle-1.3.3-cp311-cp311-manylinux_2_5_x86_64.manylinux1_x86_64.manylinux_2_17_x86_64.manylinux2014_x86_64.whl.metadata (9.9 kB)\n",
      "Requirement already satisfied: setuptools in /opt/conda/lib/python3.11/site-packages (from wandb==0.15.3->-r qlora/requirements.txt (line 9)) (69.1.1)\n",
      "Requirement already satisfied: appdirs>=1.4.3 in /opt/conda/lib/python3.11/site-packages (from wandb==0.15.3->-r qlora/requirements.txt (line 9)) (1.4.4)\n",
      "Requirement already satisfied: protobuf!=4.21.0,<5,>=3.19.0 in /opt/conda/lib/python3.11/site-packages (from wandb==0.15.3->-r qlora/requirements.txt (line 9)) (3.20.3)\n",
      "Requirement already satisfied: pyarrow>=15.0.0 in /opt/conda/lib/python3.11/site-packages (from datasets>=2.0.0->evaluate==0.4.0->-r qlora/requirements.txt (line 6)) (15.0.0)\n",
      "Requirement already satisfied: pyarrow-hotfix in /opt/conda/lib/python3.11/site-packages (from datasets>=2.0.0->evaluate==0.4.0->-r qlora/requirements.txt (line 6)) (0.6)\n",
      "Collecting requests (from transformers==4.31.0->-r qlora/requirements.txt (line 2))\n",
      "  Using cached requests-2.32.3-py3-none-any.whl.metadata (4.6 kB)\n",
      "Collecting tqdm>=4.27 (from transformers==4.31.0->-r qlora/requirements.txt (line 2))\n",
      "  Using cached tqdm-4.66.4-py3-none-any.whl.metadata (57 kB)\n",
      "Requirement already satisfied: aiohttp in /opt/conda/lib/python3.11/site-packages (from datasets>=2.0.0->evaluate==0.4.0->-r qlora/requirements.txt (line 6)) (3.9.3)\n",
      "Requirement already satisfied: six>=1.4.0 in /opt/conda/lib/python3.11/site-packages (from docker-pycreds>=0.4.0->wandb==0.15.3->-r qlora/requirements.txt (line 9)) (1.16.0)\n",
      "Requirement already satisfied: gitdb<5,>=4.0.1 in /opt/conda/lib/python3.11/site-packages (from GitPython!=3.1.29,>=1.0.0->wandb==0.15.3->-r qlora/requirements.txt (line 9)) (4.0.11)\n",
      "Requirement already satisfied: typing-extensions>=3.7.4.3 in /opt/conda/lib/python3.11/site-packages (from huggingface-hub<1.0,>=0.14.1->transformers==4.31.0->-r qlora/requirements.txt (line 2)) (4.10.0)\n",
      "Requirement already satisfied: charset-normalizer<4,>=2 in /opt/conda/lib/python3.11/site-packages (from requests->transformers==4.31.0->-r qlora/requirements.txt (line 2)) (3.3.2)\n",
      "Requirement already satisfied: idna<4,>=2.5 in /opt/conda/lib/python3.11/site-packages (from requests->transformers==4.31.0->-r qlora/requirements.txt (line 2)) (3.6)\n",
      "Requirement already satisfied: urllib3<3,>=1.21.1 in /opt/conda/lib/python3.11/site-packages (from requests->transformers==4.31.0->-r qlora/requirements.txt (line 2)) (2.2.1)\n",
      "Requirement already satisfied: certifi>=2017.4.17 in /opt/conda/lib/python3.11/site-packages (from requests->transformers==4.31.0->-r qlora/requirements.txt (line 2)) (2024.2.2)\n",
      "Requirement already satisfied: sympy in /opt/conda/lib/python3.11/site-packages (from torch>=1.13.0->peft==0.4.0->-r qlora/requirements.txt (line 3)) (1.12)\n",
      "Requirement already satisfied: networkx in /opt/conda/lib/python3.11/site-packages (from torch>=1.13.0->peft==0.4.0->-r qlora/requirements.txt (line 3)) (3.2.1)\n",
      "Requirement already satisfied: jinja2 in /opt/conda/lib/python3.11/site-packages (from torch>=1.13.0->peft==0.4.0->-r qlora/requirements.txt (line 3)) (3.1.3)\n",
      "Requirement already satisfied: triton==2.1.0 in /opt/conda/lib/python3.11/site-packages (from torch>=1.13.0->peft==0.4.0->-r qlora/requirements.txt (line 3)) (2.1.0)\n",
      "Requirement already satisfied: python-dateutil>=2.8.1 in /opt/conda/lib/python3.11/site-packages (from pandas->evaluate==0.4.0->-r qlora/requirements.txt (line 6)) (2.9.0)\n",
      "Requirement already satisfied: pytz>=2020.1 in /opt/conda/lib/python3.11/site-packages (from pandas->evaluate==0.4.0->-r qlora/requirements.txt (line 6)) (2024.1)\n",
      "Requirement already satisfied: aiosignal>=1.1.2 in /opt/conda/lib/python3.11/site-packages (from aiohttp->datasets>=2.0.0->evaluate==0.4.0->-r qlora/requirements.txt (line 6)) (1.3.1)\n",
      "Requirement already satisfied: attrs>=17.3.0 in /opt/conda/lib/python3.11/site-packages (from aiohttp->datasets>=2.0.0->evaluate==0.4.0->-r qlora/requirements.txt (line 6)) (23.2.0)\n",
      "Requirement already satisfied: frozenlist>=1.1.1 in /opt/conda/lib/python3.11/site-packages (from aiohttp->datasets>=2.0.0->evaluate==0.4.0->-r qlora/requirements.txt (line 6)) (1.4.1)\n",
      "Requirement already satisfied: multidict<7.0,>=4.5 in /opt/conda/lib/python3.11/site-packages (from aiohttp->datasets>=2.0.0->evaluate==0.4.0->-r qlora/requirements.txt (line 6)) (6.0.5)\n",
      "Requirement already satisfied: yarl<2.0,>=1.0 in /opt/conda/lib/python3.11/site-packages (from aiohttp->datasets>=2.0.0->evaluate==0.4.0->-r qlora/requirements.txt (line 6)) (1.9.4)\n",
      "Requirement already satisfied: smmap<6,>=3.0.1 in /opt/conda/lib/python3.11/site-packages (from gitdb<5,>=4.0.1->GitPython!=3.1.29,>=1.0.0->wandb==0.15.3->-r qlora/requirements.txt (line 9)) (5.0.0)\n",
      "Requirement already satisfied: MarkupSafe>=2.0 in /opt/conda/lib/python3.11/site-packages (from jinja2->torch>=1.13.0->peft==0.4.0->-r qlora/requirements.txt (line 3)) (2.1.5)\n",
      "Requirement already satisfied: mpmath>=0.19 in /opt/conda/lib/python3.11/site-packages (from sympy->torch>=1.13.0->peft==0.4.0->-r qlora/requirements.txt (line 3)) (1.3.0)\n",
      "Using cached bitsandbytes-0.40.0-py3-none-any.whl (91.9 MB)\n",
      "Using cached transformers-4.31.0-py3-none-any.whl (7.4 MB)\n",
      "Using cached peft-0.4.0-py3-none-any.whl (72 kB)\n",
      "Using cached accelerate-0.21.0-py3-none-any.whl (244 kB)\n",
      "Using cached einops-0.6.1-py3-none-any.whl (42 kB)\n",
      "Using cached evaluate-0.4.0-py3-none-any.whl (81 kB)\n",
      "Using cached scikit_learn-1.2.2-cp311-cp311-manylinux_2_17_x86_64.manylinux2014_x86_64.whl (9.6 MB)\n",
      "Using cached sentencepiece-0.1.99-cp311-cp311-manylinux_2_17_x86_64.manylinux2014_x86_64.whl (1.3 MB)\n",
      "Using cached wandb-0.15.3-py3-none-any.whl (2.0 MB)\n",
      "Using cached datasets-2.20.0-py3-none-any.whl (547 kB)\n",
      "Using cached docker_pycreds-0.4.0-py2.py3-none-any.whl (9.0 kB)\n",
      "Using cached requests-2.32.3-py3-none-any.whl (64 kB)\n",
      "Using cached responses-0.18.0-py3-none-any.whl (38 kB)\n",
      "Using cached sentry_sdk-2.6.0-py2.py3-none-any.whl (296 kB)\n",
      "Using cached tokenizers-0.13.3-cp311-cp311-manylinux_2_17_x86_64.manylinux2014_x86_64.whl (7.8 MB)\n",
      "Using cached tqdm-4.66.4-py3-none-any.whl (78 kB)\n",
      "Using cached multiprocess-0.70.16-py311-none-any.whl (143 kB)\n",
      "Using cached setproctitle-1.3.3-cp311-cp311-manylinux_2_5_x86_64.manylinux1_x86_64.manylinux_2_17_x86_64.manylinux2014_x86_64.whl (31 kB)\n",
      "Using cached xxhash-3.4.1-cp311-cp311-manylinux_2_17_x86_64.manylinux2014_x86_64.whl (194 kB)\n",
      "Installing collected packages: tokenizers, sentencepiece, pathtools, bitsandbytes, xxhash, tqdm, setproctitle, sentry-sdk, requests, multiprocess, einops, docker-pycreds, scikit-learn, responses, wandb, transformers, accelerate, peft, datasets, evaluate\n",
      "  Attempting uninstall: tokenizers\n",
      "    Found existing installation: tokenizers 0.15.2\n",
      "    Uninstalling tokenizers-0.15.2:\n",
      "      Successfully uninstalled tokenizers-0.15.2\n",
      "  Attempting uninstall: tqdm\n",
      "    Found existing installation: tqdm 4.66.2\n",
      "    Uninstalling tqdm-4.66.2:\n",
      "      Successfully uninstalled tqdm-4.66.2\n",
      "  Attempting uninstall: requests\n",
      "    Found existing installation: requests 2.31.0\n",
      "    Uninstalling requests-2.31.0:\n",
      "      Successfully uninstalled requests-2.31.0\n",
      "  Attempting uninstall: scikit-learn\n",
      "    Found existing installation: scikit-learn 1.4.1.post1\n",
      "    Uninstalling scikit-learn-1.4.1.post1:\n",
      "      Successfully uninstalled scikit-learn-1.4.1.post1\n",
      "  Attempting uninstall: transformers\n",
      "    Found existing installation: transformers 4.39.1\n",
      "    Uninstalling transformers-4.39.1:\n",
      "      Successfully uninstalled transformers-4.39.1\n",
      "Successfully installed accelerate-0.21.0 bitsandbytes-0.40.0 datasets-2.20.0 docker-pycreds-0.4.0 einops-0.6.1 evaluate-0.4.0 multiprocess-0.70.16 pathtools-0.1.2 peft-0.4.0 requests-2.32.3 responses-0.18.0 scikit-learn-1.2.2 sentencepiece-0.1.99 sentry-sdk-2.6.0 setproctitle-1.3.3 tokenizers-0.13.3 tqdm-4.66.4 transformers-4.31.0 wandb-0.15.3 xxhash-3.4.1\n"
     ]
    }
   ],
   "source": [
    "!pip install -r qlora/requirements.txt"
   ]
  },
  {
   "cell_type": "code",
   "execution_count": 2,
   "id": "468c072a-7526-4a7c-979e-cde8e25ef05b",
   "metadata": {
    "scrolled": true
   },
   "outputs": [
    {
     "name": "stdout",
     "output_type": "stream",
     "text": [
      "Requirement already satisfied: torch in /opt/conda/lib/python3.11/site-packages (2.1.2+cu121)\n",
      "Collecting torch\n",
      "  Using cached torch-2.3.1-cp311-cp311-manylinux1_x86_64.whl.metadata (26 kB)\n",
      "Requirement already satisfied: filelock in /opt/conda/lib/python3.11/site-packages (from torch) (3.13.3)\n",
      "Requirement already satisfied: typing-extensions>=4.8.0 in /opt/conda/lib/python3.11/site-packages (from torch) (4.10.0)\n",
      "Requirement already satisfied: sympy in /opt/conda/lib/python3.11/site-packages (from torch) (1.12)\n",
      "Requirement already satisfied: networkx in /opt/conda/lib/python3.11/site-packages (from torch) (3.2.1)\n",
      "Requirement already satisfied: jinja2 in /opt/conda/lib/python3.11/site-packages (from torch) (3.1.3)\n",
      "Requirement already satisfied: fsspec in /opt/conda/lib/python3.11/site-packages (from torch) (2024.2.0)\n",
      "Collecting nvidia-cuda-nvrtc-cu12==12.1.105 (from torch)\n",
      "  Using cached nvidia_cuda_nvrtc_cu12-12.1.105-py3-none-manylinux1_x86_64.whl.metadata (1.5 kB)\n",
      "Collecting nvidia-cuda-runtime-cu12==12.1.105 (from torch)\n",
      "  Using cached nvidia_cuda_runtime_cu12-12.1.105-py3-none-manylinux1_x86_64.whl.metadata (1.5 kB)\n",
      "Collecting nvidia-cuda-cupti-cu12==12.1.105 (from torch)\n",
      "  Using cached nvidia_cuda_cupti_cu12-12.1.105-py3-none-manylinux1_x86_64.whl.metadata (1.6 kB)\n",
      "Collecting nvidia-cudnn-cu12==8.9.2.26 (from torch)\n",
      "  Using cached nvidia_cudnn_cu12-8.9.2.26-py3-none-manylinux1_x86_64.whl.metadata (1.6 kB)\n",
      "Collecting nvidia-cublas-cu12==12.1.3.1 (from torch)\n",
      "  Using cached nvidia_cublas_cu12-12.1.3.1-py3-none-manylinux1_x86_64.whl.metadata (1.5 kB)\n",
      "Collecting nvidia-cufft-cu12==11.0.2.54 (from torch)\n",
      "  Using cached nvidia_cufft_cu12-11.0.2.54-py3-none-manylinux1_x86_64.whl.metadata (1.5 kB)\n",
      "Collecting nvidia-curand-cu12==10.3.2.106 (from torch)\n",
      "  Using cached nvidia_curand_cu12-10.3.2.106-py3-none-manylinux1_x86_64.whl.metadata (1.5 kB)\n",
      "Collecting nvidia-cusolver-cu12==11.4.5.107 (from torch)\n",
      "  Using cached nvidia_cusolver_cu12-11.4.5.107-py3-none-manylinux1_x86_64.whl.metadata (1.6 kB)\n",
      "Collecting nvidia-cusparse-cu12==12.1.0.106 (from torch)\n",
      "  Using cached nvidia_cusparse_cu12-12.1.0.106-py3-none-manylinux1_x86_64.whl.metadata (1.6 kB)\n",
      "Collecting nvidia-nccl-cu12==2.20.5 (from torch)\n",
      "  Using cached nvidia_nccl_cu12-2.20.5-py3-none-manylinux2014_x86_64.whl.metadata (1.8 kB)\n",
      "Collecting nvidia-nvtx-cu12==12.1.105 (from torch)\n",
      "  Using cached nvidia_nvtx_cu12-12.1.105-py3-none-manylinux1_x86_64.whl.metadata (1.7 kB)\n",
      "Collecting triton==2.3.1 (from torch)\n",
      "  Using cached triton-2.3.1-cp311-cp311-manylinux_2_17_x86_64.manylinux2014_x86_64.whl.metadata (1.4 kB)\n",
      "Requirement already satisfied: nvidia-nvjitlink-cu12 in /opt/conda/lib/python3.11/site-packages (from nvidia-cusolver-cu12==11.4.5.107->torch) (12.3.101)\n",
      "Requirement already satisfied: MarkupSafe>=2.0 in /opt/conda/lib/python3.11/site-packages (from jinja2->torch) (2.1.5)\n",
      "Requirement already satisfied: mpmath>=0.19 in /opt/conda/lib/python3.11/site-packages (from sympy->torch) (1.3.0)\n",
      "Using cached torch-2.3.1-cp311-cp311-manylinux1_x86_64.whl (779.2 MB)\n",
      "Using cached nvidia_cublas_cu12-12.1.3.1-py3-none-manylinux1_x86_64.whl (410.6 MB)\n",
      "Using cached nvidia_cuda_cupti_cu12-12.1.105-py3-none-manylinux1_x86_64.whl (14.1 MB)\n",
      "Using cached nvidia_cuda_nvrtc_cu12-12.1.105-py3-none-manylinux1_x86_64.whl (23.7 MB)\n",
      "Using cached nvidia_cuda_runtime_cu12-12.1.105-py3-none-manylinux1_x86_64.whl (823 kB)\n",
      "Using cached nvidia_cudnn_cu12-8.9.2.26-py3-none-manylinux1_x86_64.whl (731.7 MB)\n",
      "Using cached nvidia_cufft_cu12-11.0.2.54-py3-none-manylinux1_x86_64.whl (121.6 MB)\n",
      "Using cached nvidia_curand_cu12-10.3.2.106-py3-none-manylinux1_x86_64.whl (56.5 MB)\n",
      "Using cached nvidia_cusolver_cu12-11.4.5.107-py3-none-manylinux1_x86_64.whl (124.2 MB)\n",
      "Using cached nvidia_cusparse_cu12-12.1.0.106-py3-none-manylinux1_x86_64.whl (196.0 MB)\n",
      "Using cached nvidia_nccl_cu12-2.20.5-py3-none-manylinux2014_x86_64.whl (176.2 MB)\n",
      "Using cached nvidia_nvtx_cu12-12.1.105-py3-none-manylinux1_x86_64.whl (99 kB)\n",
      "Using cached triton-2.3.1-cp311-cp311-manylinux_2_17_x86_64.manylinux2014_x86_64.whl (168.1 MB)\n",
      "Installing collected packages: triton, nvidia-nvtx-cu12, nvidia-nccl-cu12, nvidia-cusparse-cu12, nvidia-curand-cu12, nvidia-cufft-cu12, nvidia-cuda-runtime-cu12, nvidia-cuda-nvrtc-cu12, nvidia-cuda-cupti-cu12, nvidia-cublas-cu12, nvidia-cusolver-cu12, nvidia-cudnn-cu12, torch\n",
      "  Attempting uninstall: triton\n",
      "    Found existing installation: triton 2.1.0\n",
      "    Uninstalling triton-2.1.0:\n",
      "      Successfully uninstalled triton-2.1.0\n",
      "  Attempting uninstall: nvidia-nccl-cu12\n",
      "    Found existing installation: nvidia-nccl-cu12 2.19.3\n",
      "    Uninstalling nvidia-nccl-cu12-2.19.3:\n",
      "      Successfully uninstalled nvidia-nccl-cu12-2.19.3\n",
      "  Attempting uninstall: nvidia-cusparse-cu12\n",
      "    Found existing installation: nvidia-cusparse-cu12 12.2.0.103\n",
      "    Uninstalling nvidia-cusparse-cu12-12.2.0.103:\n",
      "      Successfully uninstalled nvidia-cusparse-cu12-12.2.0.103\n",
      "  Attempting uninstall: nvidia-curand-cu12\n",
      "    Found existing installation: nvidia-curand-cu12 10.3.4.107\n",
      "    Uninstalling nvidia-curand-cu12-10.3.4.107:\n",
      "      Successfully uninstalled nvidia-curand-cu12-10.3.4.107\n",
      "  Attempting uninstall: nvidia-cufft-cu12\n",
      "    Found existing installation: nvidia-cufft-cu12 11.0.12.1\n",
      "    Uninstalling nvidia-cufft-cu12-11.0.12.1:\n",
      "      Successfully uninstalled nvidia-cufft-cu12-11.0.12.1\n",
      "  Attempting uninstall: nvidia-cuda-runtime-cu12\n",
      "    Found existing installation: nvidia-cuda-runtime-cu12 12.3.101\n",
      "    Uninstalling nvidia-cuda-runtime-cu12-12.3.101:\n",
      "      Successfully uninstalled nvidia-cuda-runtime-cu12-12.3.101\n",
      "  Attempting uninstall: nvidia-cuda-nvrtc-cu12\n",
      "    Found existing installation: nvidia-cuda-nvrtc-cu12 12.3.107\n",
      "    Uninstalling nvidia-cuda-nvrtc-cu12-12.3.107:\n",
      "      Successfully uninstalled nvidia-cuda-nvrtc-cu12-12.3.107\n",
      "  Attempting uninstall: nvidia-cuda-cupti-cu12\n",
      "    Found existing installation: nvidia-cuda-cupti-cu12 12.3.101\n",
      "    Uninstalling nvidia-cuda-cupti-cu12-12.3.101:\n",
      "      Successfully uninstalled nvidia-cuda-cupti-cu12-12.3.101\n",
      "  Attempting uninstall: nvidia-cublas-cu12\n",
      "    Found existing installation: nvidia-cublas-cu12 12.3.4.1\n",
      "    Uninstalling nvidia-cublas-cu12-12.3.4.1:\n",
      "      Successfully uninstalled nvidia-cublas-cu12-12.3.4.1\n",
      "  Attempting uninstall: nvidia-cusolver-cu12\n",
      "    Found existing installation: nvidia-cusolver-cu12 11.5.4.101\n",
      "    Uninstalling nvidia-cusolver-cu12-11.5.4.101:\n",
      "      Successfully uninstalled nvidia-cusolver-cu12-11.5.4.101\n",
      "  Attempting uninstall: nvidia-cudnn-cu12\n",
      "    Found existing installation: nvidia-cudnn-cu12 8.9.7.29\n",
      "    Uninstalling nvidia-cudnn-cu12-8.9.7.29:\n",
      "      Successfully uninstalled nvidia-cudnn-cu12-8.9.7.29\n",
      "  Attempting uninstall: torch\n",
      "    Found existing installation: torch 2.1.2+cu121\n",
      "    Uninstalling torch-2.1.2+cu121:\n",
      "      Successfully uninstalled torch-2.1.2+cu121\n",
      "\u001b[31mERROR: pip's dependency resolver does not currently take into account all the packages that are installed. This behaviour is the source of the following dependency conflicts.\n",
      "fastai 2.7.14 requires torch<2.3,>=1.10, but you have torch 2.3.1 which is incompatible.\n",
      "torchaudio 2.1.2+cu121 requires torch==2.1.2, but you have torch 2.3.1 which is incompatible.\n",
      "torchvision 0.16.2+cu121 requires torch==2.1.2, but you have torch 2.3.1 which is incompatible.\n",
      "torchtext 0.16.2+cpu requires torch==2.1.2, but you have torch 2.3.1 which is incompatible.\u001b[0m\u001b[31m\n",
      "\u001b[0mSuccessfully installed nvidia-cublas-cu12-12.1.3.1 nvidia-cuda-cupti-cu12-12.1.105 nvidia-cuda-nvrtc-cu12-12.1.105 nvidia-cuda-runtime-cu12-12.1.105 nvidia-cudnn-cu12-8.9.2.26 nvidia-cufft-cu12-11.0.2.54 nvidia-curand-cu12-10.3.2.106 nvidia-cusolver-cu12-11.4.5.107 nvidia-cusparse-cu12-12.1.0.106 nvidia-nccl-cu12-2.20.5 nvidia-nvtx-cu12-12.1.105 torch-2.3.1 triton-2.3.1\n",
      "Requirement already satisfied: wandb in /opt/conda/lib/python3.11/site-packages (0.15.3)\n",
      "Collecting wandb\n",
      "  Using cached wandb-0.17.3-py3-none-manylinux_2_5_x86_64.manylinux1_x86_64.manylinux_2_17_x86_64.manylinux2014_x86_64.whl.metadata (10 kB)\n",
      "Requirement already satisfied: click!=8.0.0,>=7.1 in /opt/conda/lib/python3.11/site-packages (from wandb) (8.1.7)\n",
      "Requirement already satisfied: docker-pycreds>=0.4.0 in /opt/conda/lib/python3.11/site-packages (from wandb) (0.4.0)\n",
      "Requirement already satisfied: gitpython!=3.1.29,>=1.0.0 in /opt/conda/lib/python3.11/site-packages (from wandb) (3.1.42)\n",
      "Requirement already satisfied: platformdirs in /opt/conda/lib/python3.11/site-packages (from wandb) (4.2.0)\n",
      "Requirement already satisfied: protobuf!=4.21.0,<6,>=3.19.0 in /opt/conda/lib/python3.11/site-packages (from wandb) (3.20.3)\n",
      "Requirement already satisfied: psutil>=5.0.0 in /opt/conda/lib/python3.11/site-packages (from wandb) (5.9.8)\n",
      "Requirement already satisfied: pyyaml in /opt/conda/lib/python3.11/site-packages (from wandb) (6.0.1)\n",
      "Requirement already satisfied: requests<3,>=2.0.0 in /opt/conda/lib/python3.11/site-packages (from wandb) (2.32.3)\n",
      "Requirement already satisfied: sentry-sdk>=1.0.0 in /opt/conda/lib/python3.11/site-packages (from wandb) (2.6.0)\n",
      "Requirement already satisfied: setproctitle in /opt/conda/lib/python3.11/site-packages (from wandb) (1.3.3)\n",
      "Requirement already satisfied: setuptools in /opt/conda/lib/python3.11/site-packages (from wandb) (69.1.1)\n",
      "Requirement already satisfied: six>=1.4.0 in /opt/conda/lib/python3.11/site-packages (from docker-pycreds>=0.4.0->wandb) (1.16.0)\n",
      "Requirement already satisfied: gitdb<5,>=4.0.1 in /opt/conda/lib/python3.11/site-packages (from gitpython!=3.1.29,>=1.0.0->wandb) (4.0.11)\n",
      "Requirement already satisfied: charset-normalizer<4,>=2 in /opt/conda/lib/python3.11/site-packages (from requests<3,>=2.0.0->wandb) (3.3.2)\n",
      "Requirement already satisfied: idna<4,>=2.5 in /opt/conda/lib/python3.11/site-packages (from requests<3,>=2.0.0->wandb) (3.6)\n",
      "Requirement already satisfied: urllib3<3,>=1.21.1 in /opt/conda/lib/python3.11/site-packages (from requests<3,>=2.0.0->wandb) (2.2.1)\n",
      "Requirement already satisfied: certifi>=2017.4.17 in /opt/conda/lib/python3.11/site-packages (from requests<3,>=2.0.0->wandb) (2024.2.2)\n",
      "Requirement already satisfied: smmap<6,>=3.0.1 in /opt/conda/lib/python3.11/site-packages (from gitdb<5,>=4.0.1->gitpython!=3.1.29,>=1.0.0->wandb) (5.0.0)\n",
      "Using cached wandb-0.17.3-py3-none-manylinux_2_5_x86_64.manylinux1_x86_64.manylinux_2_17_x86_64.manylinux2014_x86_64.whl (6.9 MB)\n",
      "Installing collected packages: wandb\n",
      "  Attempting uninstall: wandb\n",
      "    Found existing installation: wandb 0.15.3\n",
      "    Uninstalling wandb-0.15.3:\n",
      "      Successfully uninstalled wandb-0.15.3\n",
      "Successfully installed wandb-0.17.3\n"
     ]
    }
   ],
   "source": [
    "!pip install torch --upgrade\n",
    "!pip install -q -U bitsandbytes\n",
    "!pip install -q -U git+https://github.com/huggingface/transformers.git \n",
    "!pip install -q -U git+https://github.com/huggingface/peft.git\n",
    "!pip install -q -U git+https://github.com/huggingface/accelerate.git\n",
    "!pip install wandb --upgrade"
   ]
  },
  {
   "cell_type": "code",
   "execution_count": 4,
   "id": "d18a174c-d0b1-4b18-9914-eb57c2263543",
   "metadata": {},
   "outputs": [],
   "source": [
    "device = torch.device(\"cuda\" if torch.cuda.is_available() else \"cpu\")\n",
    "transformers.logging.set_verbosity_info()"
   ]
  },
  {
   "cell_type": "markdown",
   "id": "e63c3666-0dd5-4015-a6c9-2ac2d9ef541a",
   "metadata": {},
   "source": [
    "## 2. Data Loading and Preprocessing"
   ]
  },
  {
   "cell_type": "code",
   "execution_count": 11,
   "id": "f3b84342-04eb-4666-8c0d-e3ef5bbd7057",
   "metadata": {},
   "outputs": [],
   "source": [
    "train_set = load_dataset(\"mwritescode/slither-audited-smart-contracts\", 'big-multilabel', split='train', verification_mode='no_checks', trust_remote_code=True)\n",
    "test_set = load_dataset(\"mwritescode/slither-audited-smart-contracts\", 'big-multilabel', split='test', verification_mode='no_checks', trust_remote_code=True)\n",
    "val_set = load_dataset(\"mwritescode/slither-audited-smart-contracts\", 'big-multilabel', split='validation', verification_mode='no_checks', trust_remote_code=True)"
   ]
  },
  {
   "cell_type": "markdown",
   "id": "ae2f6b0f-d5f3-44e9-b228-2aa096a22b33",
   "metadata": {},
   "source": [
    "Approximation of runtime for full dataset\n",
    "1057 rows = train_runtime': 7.2798s & 3 mins preprocessing = 3.12mins\n",
    "79641 rows = train_runtime': 548s & 225 mins preprocessing = 234.13mins = 3.9h"
   ]
  },
  {
   "cell_type": "code",
   "execution_count": 288,
   "id": "f640fc67-94da-49fa-b55c-1d69a55d2d7c",
   "metadata": {},
   "outputs": [],
   "source": [
    "FRACTION = 1\n",
    "\n",
    "train_df = train_set.to_pandas().sample(frac=FRACTION, random_state=420)\n",
    "test_df = test_set.to_pandas().sample(frac=FRACTION, random_state=420)\n",
    "val_df = val_set.to_pandas().sample(frac=FRACTION, random_state=420)"
   ]
  },
  {
   "cell_type": "code",
   "execution_count": 289,
   "id": "3cc61467-58d2-49f6-a3ca-a189fd929d99",
   "metadata": {},
   "outputs": [
    {
     "data": {
      "text/html": [
       "<div>\n",
       "<style scoped>\n",
       "    .dataframe tbody tr th:only-of-type {\n",
       "        vertical-align: middle;\n",
       "    }\n",
       "\n",
       "    .dataframe tbody tr th {\n",
       "        vertical-align: top;\n",
       "    }\n",
       "\n",
       "    .dataframe thead th {\n",
       "        text-align: right;\n",
       "    }\n",
       "</style>\n",
       "<table border=\"1\" class=\"dataframe\">\n",
       "  <thead>\n",
       "    <tr style=\"text-align: right;\">\n",
       "      <th></th>\n",
       "      <th>address</th>\n",
       "      <th>source_code</th>\n",
       "      <th>bytecode</th>\n",
       "      <th>slither</th>\n",
       "    </tr>\n",
       "  </thead>\n",
       "  <tbody>\n",
       "    <tr>\n",
       "      <th>44384</th>\n",
       "      <td>0xa49f8b3f4f8af2a68a15eec869f6cff06b217b86</td>\n",
       "      <td>/*\\n    Copyright 2021 Set Labs Inc.\\n\\n    Li...</td>\n",
       "      <td>0x608060405234801561001057600080fd5b5060043610...</td>\n",
       "      <td>[4]</td>\n",
       "    </tr>\n",
       "    <tr>\n",
       "      <th>56556</th>\n",
       "      <td>0xc42a8afc770f1a3328a4dacd295905df7ac27cfe</td>\n",
       "      <td>/**\\n *Submitted for verification at Etherscan...</td>\n",
       "      <td>0x608060405234801561001057600080fd5b5060043610...</td>\n",
       "      <td>[4]</td>\n",
       "    </tr>\n",
       "    <tr>\n",
       "      <th>9258</th>\n",
       "      <td>0x2587fa21554644f999f8f942d183cea9c0f45b82</td>\n",
       "      <td>/**\\n *Submitted for verification at Etherscan...</td>\n",
       "      <td>0x60806040526004361061020f5760003560e01c806355...</td>\n",
       "      <td>[5, 2]</td>\n",
       "    </tr>\n",
       "    <tr>\n",
       "      <th>47332</th>\n",
       "      <td>0xaC21924eA1C0d5137797419b52f4dC2A04D04389</td>\n",
       "      <td>//SPDX-License-Identifier: Unlicense\\npragma s...</td>\n",
       "      <td>0x608060405234801561001057600080fd5b5060043610...</td>\n",
       "      <td>[5]</td>\n",
       "    </tr>\n",
       "    <tr>\n",
       "      <th>6868</th>\n",
       "      <td>0x1bA1279715fd65f6098Ed79a577f30329751eb8a</td>\n",
       "      <td>/**\\n *Submitted for verification at Etherscan...</td>\n",
       "      <td>0x60806040526004361061020f5760003560e01c80635c...</td>\n",
       "      <td>[5, 2]</td>\n",
       "    </tr>\n",
       "  </tbody>\n",
       "</table>\n",
       "</div>"
      ],
      "text/plain": [
       "                                          address  \\\n",
       "44384  0xa49f8b3f4f8af2a68a15eec869f6cff06b217b86   \n",
       "56556  0xc42a8afc770f1a3328a4dacd295905df7ac27cfe   \n",
       "9258   0x2587fa21554644f999f8f942d183cea9c0f45b82   \n",
       "47332  0xaC21924eA1C0d5137797419b52f4dC2A04D04389   \n",
       "6868   0x1bA1279715fd65f6098Ed79a577f30329751eb8a   \n",
       "\n",
       "                                             source_code  \\\n",
       "44384  /*\\n    Copyright 2021 Set Labs Inc.\\n\\n    Li...   \n",
       "56556  /**\\n *Submitted for verification at Etherscan...   \n",
       "9258   /**\\n *Submitted for verification at Etherscan...   \n",
       "47332  //SPDX-License-Identifier: Unlicense\\npragma s...   \n",
       "6868   /**\\n *Submitted for verification at Etherscan...   \n",
       "\n",
       "                                                bytecode slither  \n",
       "44384  0x608060405234801561001057600080fd5b5060043610...     [4]  \n",
       "56556  0x608060405234801561001057600080fd5b5060043610...     [4]  \n",
       "9258   0x60806040526004361061020f5760003560e01c806355...  [5, 2]  \n",
       "47332  0x608060405234801561001057600080fd5b5060043610...     [5]  \n",
       "6868   0x60806040526004361061020f5760003560e01c80635c...  [5, 2]  "
      ]
     },
     "execution_count": 289,
     "metadata": {},
     "output_type": "execute_result"
    }
   ],
   "source": [
    "train_df.head()"
   ]
  },
  {
   "cell_type": "code",
   "execution_count": 290,
   "id": "b3cdbd1f-7ebf-4b95-abcb-9a0c71703c3a",
   "metadata": {},
   "outputs": [
    {
     "data": {
      "image/png": "[encoded data removed]",
      "text/plain": [
       "<Figure size 800x600 with 1 Axes>"
      ]
     },
     "metadata": {},
     "output_type": "display_data"
    }
   ],
   "source": [
    "# Calculate string lengths\n",
    "train_df['source_length'] = train_df['source_code'].apply(len)\n",
    "\n",
    "# Plot histogram with logarithmic scale on y-axis\n",
    "plt.figure(figsize=(8, 6))\n",
    "plt.hist(train_df['source_length'], bins=20, color='skyblue', edgecolor='black')\n",
    "plt.yscale('log')  # Set logarithmic scale for y-axis\n",
    "plt.xlabel('source_code')\n",
    "plt.ylabel('Frequency')\n",
    "plt.title('Histogram of source_code with Logarithmic Scale')\n",
    "plt.grid(True)\n",
    "plt.show()"
   ]
  },
  {
   "cell_type": "code",
   "execution_count": 298,
   "id": "b20b192e-3e48-4edb-8200-dbcef2cf4553",
   "metadata": {},
   "outputs": [],
   "source": [
    "test_df['source_length'] = test_df['source_code'].apply(len)\n",
    "val_df['source_length'] = val_df['source_code'].apply(len)\n",
    "\n",
    "train_df = train_df[train_df['source_length'] <= 4000]\n",
    "test_df = test_df[test_df['source_length'] <= 4000]\n",
    "val_df = val_df[val_df['source_length'] <= 4000]"
   ]
  },
  {
   "cell_type": "code",
   "execution_count": 299,
   "id": "94d2544b-7003-45a9-99ef-32ac7e319973",
   "metadata": {},
   "outputs": [
    {
     "name": "stderr",
     "output_type": "stream",
     "text": [
      "/tmp/ipykernel_268/3142215593.py:2: SettingWithCopyWarning: \n",
      "A value is trying to be set on a copy of a slice from a DataFrame.\n",
      "Try using .loc[row_indexer,col_indexer] = value instead\n",
      "\n",
      "See the caveats in the documentation: https://pandas.pydata.org/pandas-docs/stable/user_guide/indexing.html#returning-a-view-versus-a-copy\n",
      "  train_df['source_length'] = train_df['source_code'].apply(len)\n"
     ]
    },
    {
     "data": {
      "image/png": "[encoded data removed]",
      "text/plain": [
       "<Figure size 800x600 with 1 Axes>"
      ]
     },
     "metadata": {},
     "output_type": "display_data"
    }
   ],
   "source": [
    "# Calculate string lengths\n",
    "train_df['source_length'] = train_df['source_code'].apply(len)\n",
    "\n",
    "# Plot histogram with logarithmic scale on y-axis\n",
    "plt.figure(figsize=(8, 6))\n",
    "plt.hist(train_df['source_length'], bins=20, color='skyblue', edgecolor='black')\n",
    "plt.yscale('log')  # Set logarithmic scale for y-axis\n",
    "plt.xlabel('source_code')\n",
    "plt.ylabel('Frequency')\n",
    "plt.title('Histogram of source_code with Logarithmic Scale')\n",
    "plt.grid(True)\n",
    "plt.show()"
   ]
  },
  {
   "cell_type": "code",
   "execution_count": 300,
   "id": "f96ac21c-d821-4c8b-be2b-9b6248993437",
   "metadata": {},
   "outputs": [
    {
     "data": {
      "text/html": [
       "<div>\n",
       "<style scoped>\n",
       "    .dataframe tbody tr th:only-of-type {\n",
       "        vertical-align: middle;\n",
       "    }\n",
       "\n",
       "    .dataframe tbody tr th {\n",
       "        vertical-align: top;\n",
       "    }\n",
       "\n",
       "    .dataframe thead th {\n",
       "        text-align: right;\n",
       "    }\n",
       "</style>\n",
       "<table border=\"1\" class=\"dataframe\">\n",
       "  <thead>\n",
       "    <tr style=\"text-align: right;\">\n",
       "      <th></th>\n",
       "      <th>address</th>\n",
       "      <th>source_code</th>\n",
       "      <th>bytecode</th>\n",
       "      <th>slither</th>\n",
       "      <th>source_length</th>\n",
       "    </tr>\n",
       "  </thead>\n",
       "  <tbody>\n",
       "    <tr>\n",
       "      <th>43559</th>\n",
       "      <td>0xa26ac15771d0cdb485d4e0489f7ad9c8f32ab4e1</td>\n",
       "      <td>pragma solidity ^0.4.18;\\n\\n/**\\n * @title Saf...</td>\n",
       "      <td>0x6080604052600436106100ba576000357c0100000000...</td>\n",
       "      <td>[3, 5]</td>\n",
       "      <td>2991</td>\n",
       "    </tr>\n",
       "    <tr>\n",
       "      <th>17360</th>\n",
       "      <td>0x4824b7595175417b81dfc9350941bf3a35afe8f6</td>\n",
       "      <td>pragma solidity ^0.4.20;\\n\\ncontract MyToken {...</td>\n",
       "      <td>0x60806040526004361061004c576000357c0100000000...</td>\n",
       "      <td>[4]</td>\n",
       "      <td>903</td>\n",
       "    </tr>\n",
       "    <tr>\n",
       "      <th>5149</th>\n",
       "      <td>0x146b6c2b3248b800d91cc384821c426174042d58</td>\n",
       "      <td>/**\\n *Submitted for verification at Etherscan...</td>\n",
       "      <td>0x6080604052600436106100d0576000357c0100000000...</td>\n",
       "      <td>[4]</td>\n",
       "      <td>3622</td>\n",
       "    </tr>\n",
       "    <tr>\n",
       "      <th>5539</th>\n",
       "      <td>0x1622aafed9a6f0b59ef50a778bcb0cdbf990bf81</td>\n",
       "      <td>pragma solidity ^0.4.19;\\n\\ncontract Foo\\n{\\n ...</td>\n",
       "      <td>0x606060405260043610610041576000357c0100000000...</td>\n",
       "      <td>[4]</td>\n",
       "      <td>147</td>\n",
       "    </tr>\n",
       "    <tr>\n",
       "      <th>66264</th>\n",
       "      <td>0xdda2360bf463ba8811fe7f760cd0864fe8a13dae</td>\n",
       "      <td>pragma solidity ^0.4.18;\\n\\n/**\\n * @title Saf...</td>\n",
       "      <td>0x6080604052600436106100ba576000357c0100000000...</td>\n",
       "      <td>[3, 5]</td>\n",
       "      <td>2991</td>\n",
       "    </tr>\n",
       "    <tr>\n",
       "      <th>...</th>\n",
       "      <td>...</td>\n",
       "      <td>...</td>\n",
       "      <td>...</td>\n",
       "      <td>...</td>\n",
       "      <td>...</td>\n",
       "    </tr>\n",
       "    <tr>\n",
       "      <th>60191</th>\n",
       "      <td>0xCD9dB6021749F25f13A6D4fF7D950d33bCb714e2</td>\n",
       "      <td>pragma solidity 0.5.17;\\npragma experimental A...</td>\n",
       "      <td>0x608060405234801561001057600080fd5b5060043610...</td>\n",
       "      <td>[4]</td>\n",
       "      <td>1434</td>\n",
       "    </tr>\n",
       "    <tr>\n",
       "      <th>43231</th>\n",
       "      <td>0xa1af9d98bf4b4e11e8a070423397c95eefe43f24</td>\n",
       "      <td>// SPDX-License-Identifier: MIT\\npragma solidi...</td>\n",
       "      <td>0x608060405234801561001057600080fd5b5060043610...</td>\n",
       "      <td>[5]</td>\n",
       "      <td>3225</td>\n",
       "    </tr>\n",
       "    <tr>\n",
       "      <th>38841</th>\n",
       "      <td>0x963c69cca9b9193581ea100bc2ca31322e30d463</td>\n",
       "      <td>pragma solidity ^0.4.11;\\ncontract OHGLuangPra...</td>\n",
       "      <td>0x6060604052600436106100a4576000357c0100000000...</td>\n",
       "      <td>[4]</td>\n",
       "      <td>1939</td>\n",
       "    </tr>\n",
       "    <tr>\n",
       "      <th>63547</th>\n",
       "      <td>0xd65f46aaf9ceb91c935f5dda0a32c4ce3e379c3d</td>\n",
       "      <td>pragma solidity ^0.4.18;\\n\\n/**\\n * @title Saf...</td>\n",
       "      <td>0x6080604052600436106100ba576000357c0100000000...</td>\n",
       "      <td>[3, 5]</td>\n",
       "      <td>2993</td>\n",
       "    </tr>\n",
       "    <tr>\n",
       "      <th>78840</th>\n",
       "      <td>0xfedcd6723042dab201087751746c320635e4a866</td>\n",
       "      <td>/**\\n *Submitted for verification at Etherscan...</td>\n",
       "      <td>0x6080604052600436106100a05760003560e01c806370...</td>\n",
       "      <td>[4]</td>\n",
       "      <td>3111</td>\n",
       "    </tr>\n",
       "  </tbody>\n",
       "</table>\n",
       "<p>8902 rows × 5 columns</p>\n",
       "</div>"
      ],
      "text/plain": [
       "                                          address  \\\n",
       "43559  0xa26ac15771d0cdb485d4e0489f7ad9c8f32ab4e1   \n",
       "17360  0x4824b7595175417b81dfc9350941bf3a35afe8f6   \n",
       "5149   0x146b6c2b3248b800d91cc384821c426174042d58   \n",
       "5539   0x1622aafed9a6f0b59ef50a778bcb0cdbf990bf81   \n",
       "66264  0xdda2360bf463ba8811fe7f760cd0864fe8a13dae   \n",
       "...                                           ...   \n",
       "60191  0xCD9dB6021749F25f13A6D4fF7D950d33bCb714e2   \n",
       "43231  0xa1af9d98bf4b4e11e8a070423397c95eefe43f24   \n",
       "38841  0x963c69cca9b9193581ea100bc2ca31322e30d463   \n",
       "63547  0xd65f46aaf9ceb91c935f5dda0a32c4ce3e379c3d   \n",
       "78840  0xfedcd6723042dab201087751746c320635e4a866   \n",
       "\n",
       "                                             source_code  \\\n",
       "43559  pragma solidity ^0.4.18;\\n\\n/**\\n * @title Saf...   \n",
       "17360  pragma solidity ^0.4.20;\\n\\ncontract MyToken {...   \n",
       "5149   /**\\n *Submitted for verification at Etherscan...   \n",
       "5539   pragma solidity ^0.4.19;\\n\\ncontract Foo\\n{\\n ...   \n",
       "66264  pragma solidity ^0.4.18;\\n\\n/**\\n * @title Saf...   \n",
       "...                                                  ...   \n",
       "60191  pragma solidity 0.5.17;\\npragma experimental A...   \n",
       "43231  // SPDX-License-Identifier: MIT\\npragma solidi...   \n",
       "38841  pragma solidity ^0.4.11;\\ncontract OHGLuangPra...   \n",
       "63547  pragma solidity ^0.4.18;\\n\\n/**\\n * @title Saf...   \n",
       "78840  /**\\n *Submitted for verification at Etherscan...   \n",
       "\n",
       "                                                bytecode slither  \\\n",
       "43559  0x6080604052600436106100ba576000357c0100000000...  [3, 5]   \n",
       "17360  0x60806040526004361061004c576000357c0100000000...     [4]   \n",
       "5149   0x6080604052600436106100d0576000357c0100000000...     [4]   \n",
       "5539   0x606060405260043610610041576000357c0100000000...     [4]   \n",
       "66264  0x6080604052600436106100ba576000357c0100000000...  [3, 5]   \n",
       "...                                                  ...     ...   \n",
       "60191  0x608060405234801561001057600080fd5b5060043610...     [4]   \n",
       "43231  0x608060405234801561001057600080fd5b5060043610...     [5]   \n",
       "38841  0x6060604052600436106100a4576000357c0100000000...     [4]   \n",
       "63547  0x6080604052600436106100ba576000357c0100000000...  [3, 5]   \n",
       "78840  0x6080604052600436106100a05760003560e01c806370...     [4]   \n",
       "\n",
       "       source_length  \n",
       "43559           2991  \n",
       "17360            903  \n",
       "5149            3622  \n",
       "5539             147  \n",
       "66264           2991  \n",
       "...              ...  \n",
       "60191           1434  \n",
       "43231           3225  \n",
       "38841           1939  \n",
       "63547           2993  \n",
       "78840           3111  \n",
       "\n",
       "[8902 rows x 5 columns]"
      ]
     },
     "execution_count": 300,
     "metadata": {},
     "output_type": "execute_result"
    }
   ],
   "source": [
    "train_df"
   ]
  },
  {
   "cell_type": "markdown",
   "id": "488dcd48-0004-42b1-9439-b9759607c264",
   "metadata": {},
   "source": [
    "#### Filtering Source Code"
   ]
  },
  {
   "cell_type": "code",
   "execution_count": 301,
   "id": "8b0b779d-3d46-43e8-81b2-090f7dc1175c",
   "metadata": {
    "scrolled": true
   },
   "outputs": [
    {
     "name": "stderr",
     "output_type": "stream",
     "text": [
      "/tmp/ipykernel_268/2407292393.py:87: SettingWithCopyWarning: \n",
      "A value is trying to be set on a copy of a slice from a DataFrame.\n",
      "Try using .loc[row_indexer,col_indexer] = value instead\n",
      "\n",
      "See the caveats in the documentation: https://pandas.pydata.org/pandas-docs/stable/user_guide/indexing.html#returning-a-view-versus-a-copy\n",
      "  train_df['processed_source_code'] = train_df['source_code'].apply(process_source_code)\n"
     ]
    }
   ],
   "source": [
    "def process_source_code(source_code):\n",
    "    # Regex patterns\n",
    "    security_kewords_regex = r\"function[\\s\\S]*?\\{.*?(transfer|call|send|require|assert)[\\s\\S]*?\\}\"\n",
    "    events_regex = r\"event[\\s\\S]*?;\"\n",
    "    variables_regex = r\"(public|external|internal|private)[\\s\\S]*?;\"\n",
    "    details_regex = r\"contract[\\s\\S]*?is[\\s\\S]*?\\{\"\n",
    "\n",
    "    # Extract matches\n",
    "    security_kewords = re.findall(security_kewords_regex, source_code)\n",
    "    events = re.findall(events_regex, source_code)\n",
    "    variables = re.findall(variables_regex, source_code)\n",
    "    details = re.findall(details_regex, source_code)\n",
    "\n",
    "    # Combine extracted code fragments\n",
    "    extracted_fragments = security_kewords + events + variables + details\n",
    "\n",
    "    # Function to clean up source code fragments\n",
    "    def clean_code_fragments(fragments):\n",
    "        cleaned_fragments = []\n",
    "        for fragment in fragments:\n",
    "            # Remove new lines and reduce multiple spaces to single space\n",
    "            cleaned = re.sub(r'\\s+', ' ', fragment).strip()\n",
    "            # Append cleaned fragment to the list\n",
    "            cleaned_fragments.append(cleaned)\n",
    "        return cleaned_fragments\n",
    "\n",
    "    # Clean the fragments\n",
    "    cleaned_fragments = clean_code_fragments(extracted_fragments)\n",
    "\n",
    "    # Function to organize and deduplicate code fragments\n",
    "    def organize_fragments(fragments):\n",
    "        contracts = {}\n",
    "        for fragment in fragments:\n",
    "            # Check if the fragment is a contract definition\n",
    "            contract_match = re.search(r'contract\\s+(\\w+)', fragment)\n",
    "            if contract_match:\n",
    "                contract_name = contract_match.group(1)\n",
    "                if contract_name not in contracts:\n",
    "                    contracts[contract_name] = set()\n",
    "                contracts[contract_name].add(fragment)\n",
    "            else:\n",
    "                # If not part of a contract, categorize by type (events, functions, etc.)\n",
    "                type_match = re.search(r'^(event|function)', fragment)\n",
    "                if type_match:\n",
    "                    event_or_function = type_match.group(1)\n",
    "                    if event_or_function not in contracts:\n",
    "                        contracts[event_or_function] = set()\n",
    "                    contracts[event_or_function].add(fragment)\n",
    "\n",
    "        return contracts\n",
    "\n",
    "    # Organize and deduplicate\n",
    "    organized_code = organize_fragments(cleaned_fragments)\n",
    "\n",
    "    # Function to convert organized code dictionary into a string\n",
    "    def convert_to_string(organized_code):\n",
    "        # Start with an empty string\n",
    "        code_string = \"\"\n",
    "        # Iterate over each category and its list of items\n",
    "        for category, items in organized_code.items():\n",
    "            code_string += f\"\\n{category}:\\n\"  # Add the category name\n",
    "            for item in items:\n",
    "                code_string += f\"  {item}\\n\"  # Add each item in the category\n",
    "        return code_string.strip()  # Return the final string, stripped of any leading/trailing whitespace\n",
    "\n",
    "    # Convert the organized code to a string\n",
    "    code_string = convert_to_string(organized_code)\n",
    "\n",
    "    # Function to abstract the source code\n",
    "    def abstract_source_code(code):\n",
    "        # Remove detailed comments and metadata\n",
    "        code = re.sub(r'/\\*.*?\\*/', '', code, flags=re.DOTALL)  # Remove block comments\n",
    "        code = re.sub(r'//.*', '', code)  # Remove line comments\n",
    "        code = re.sub(r'event\\s+(\\w+)\\(.*?\\);', r'event \\1;', code)\n",
    "        code = re.sub(r'function\\s+(\\w+)\\(.*?\\)\\s*{.*?}', r'function \\1(params);', code, flags=re.DOTALL)\n",
    "        code = re.sub(r'library\\s+(\\w+)\\s*{', r'library \\1 {', code)\n",
    "        code = re.sub(r'\\n\\s*\\n', '\\n', code)  # Reduce multiple newlines to a single one\n",
    "        return code\n",
    "\n",
    "    # Apply the abstraction function\n",
    "    abstracted_code = abstract_source_code(code_string)\n",
    "\n",
    "    # Return the abstracted code\n",
    "    return abstracted_code\n",
    "\n",
    "# Process the source code\n",
    "train_df['processed_source_code'] = train_df['source_code'].apply(process_source_code)\n",
    "test_df['processed_source_code'] = test_df['source_code'].apply(process_source_code)\n",
    "val_df['processed_source_code'] = val_df['source_code'].apply(process_source_code)"
   ]
  },
  {
   "cell_type": "markdown",
   "id": "c7009af2-149c-4770-a099-cd34d8ef6a96",
   "metadata": {},
   "source": [
    "#### Chunking Source Code"
   ]
  },
  {
   "cell_type": "code",
   "execution_count": 303,
   "id": "102f6176-0d2d-4b1a-8c7d-2d719207c5e9",
   "metadata": {},
   "outputs": [
    {
     "name": "stderr",
     "output_type": "stream",
     "text": [
      "/tmp/ipykernel_268/3726766445.py:35: FutureWarning: The frame.append method is deprecated and will be removed from pandas in a future version. Use pandas.concat instead.\n",
      "  df_expanded = df_expanded.append(new_row, ignore_index=True)\n",
      "/tmp/ipykernel_268/3726766445.py:35: FutureWarning: The frame.append method is deprecated and will be removed from pandas in a future version. Use pandas.concat instead.\n",
      "  df_expanded = df_expanded.append(new_row, ignore_index=True)\n",
      "/tmp/ipykernel_268/3726766445.py:35: FutureWarning: The frame.append method is deprecated and will be removed from pandas in a future version. Use pandas.concat instead.\n",
      "  df_expanded = df_expanded.append(new_row, ignore_index=True)\n"
     ]
    }
   ],
   "source": [
    "def sliding_window_chunks(text, window_size, step_size):\n",
    "    \"\"\"\n",
    "    Splits the text into overlapping chunks using a sliding window approach.\n",
    "    \"\"\"\n",
    "    chunks = []\n",
    "    text_length = len(text)\n",
    "    for i in range(0, text_length, step_size):\n",
    "        end = i + window_size\n",
    "        if end >= text_length:\n",
    "            end = text_length\n",
    "        chunk = text[i:end]\n",
    "        chunks.append(chunk)\n",
    "        if end == text_length:\n",
    "            break\n",
    "    return chunks\n",
    "\n",
    "def process_source_code_with_sliding_window(source_code, window_size=200, step_size=100):\n",
    "    \"\"\"\n",
    "    Process the source code and split it into chunks using a sliding window approach.\n",
    "    \"\"\"\n",
    "    # Split the source code into chunks using sliding window\n",
    "    chunks = sliding_window_chunks(source_code, window_size, step_size)\n",
    "    \n",
    "    # Return the chunks\n",
    "    return chunks\n",
    "\n",
    "def apply_sliding_window(df, window_size=500, step_size=400):\n",
    "    df_expanded = pd.DataFrame()\n",
    "    for index, row in df.iterrows():\n",
    "        source_code = row['source_code']\n",
    "        chunks = process_source_code_with_sliding_window(source_code, window_size, step_size)\n",
    "        for chunk in chunks:\n",
    "            new_row = row.copy()\n",
    "            new_row['processed_source_code'] = chunk\n",
    "            df_expanded = df_expanded.append(new_row, ignore_index=True)\n",
    "    return df_expanded\n",
    "\n",
    "# Apply the function to train, test, and validation DataFrames\n",
    "train_df_expanded = apply_sliding_window(train_df)\n",
    "test_df_expanded = apply_sliding_window(test_df)\n",
    "val_df_expanded = apply_sliding_window(val_df)"
   ]
  },
  {
   "cell_type": "markdown",
   "id": "ec06fb86-0d6b-4768-bb07-234d049668cb",
   "metadata": {},
   "source": [
    "#### Combined Approach of Sliding Window and Filtering"
   ]
  },
  {
   "cell_type": "code",
   "execution_count": 304,
   "id": "cf182173-6692-4f23-856c-b6da6c5c2741",
   "metadata": {},
   "outputs": [
    {
     "name": "stderr",
     "output_type": "stream",
     "text": [
      "/tmp/ipykernel_268/1871249461.py:106: FutureWarning: The frame.append method is deprecated and will be removed from pandas in a future version. Use pandas.concat instead.\n",
      "  df_expanded = df_expanded.append(new_row, ignore_index=True)\n",
      "/tmp/ipykernel_268/1871249461.py:106: FutureWarning: The frame.append method is deprecated and will be removed from pandas in a future version. Use pandas.concat instead.\n",
      "  df_expanded = df_expanded.append(new_row, ignore_index=True)\n",
      "/tmp/ipykernel_268/1871249461.py:106: FutureWarning: The frame.append method is deprecated and will be removed from pandas in a future version. Use pandas.concat instead.\n",
      "  df_expanded = df_expanded.append(new_row, ignore_index=True)\n"
     ]
    }
   ],
   "source": [
    "def process_source_code_simplified(source_code):\n",
    "    # Regex patterns\n",
    "    security_keywords_regex = r\"function[\\s\\S]*?\\{.*?(transfer|call|send|require|assert)[\\s\\S]*?\\}\"\n",
    "    events_regex = r\"event[\\s\\S]*?;\"\n",
    "    variables_regex = r\"(public|external|internal|private)[\\s\\S]*?;\"\n",
    "    details_regex = r\"contract[\\s\\S]*?is[\\s\\S]*?\\{\"\n",
    "\n",
    "    # Extract matches\n",
    "    security_keywords = re.findall(security_keywords_regex, source_code)\n",
    "    events = re.findall(events_regex, source_code)\n",
    "    variables = re.findall(variables_regex, source_code)\n",
    "    details = re.findall(details_regex, source_code)\n",
    "\n",
    "    # Combine extracted code fragments\n",
    "    extracted_fragments = security_keywords + events + variables + details\n",
    "\n",
    "    # Function to clean up source code fragments\n",
    "    def clean_code_fragments(fragments):\n",
    "        cleaned_fragments = []\n",
    "        for fragment in fragments:\n",
    "            # Remove new lines and reduce multiple spaces to single space\n",
    "            cleaned = re.sub(r'\\s+', ' ', fragment).strip()\n",
    "            # Append cleaned fragment to the list\n",
    "            cleaned_fragments.append(cleaned)\n",
    "        return cleaned_fragments\n",
    "\n",
    "    # Clean the fragments\n",
    "    cleaned_fragments = clean_code_fragments(extracted_fragments)\n",
    "\n",
    "    # Function to organize and deduplicate code fragments\n",
    "    def organize_fragments(fragments):\n",
    "        contracts = {}\n",
    "        for fragment in fragments:\n",
    "            # Check if the fragment is a contract definition\n",
    "            contract_match = re.search(r'contract\\s+(\\w+)', fragment)\n",
    "            if contract_match:\n",
    "                contract_name = contract_match.group(1)\n",
    "                if contract_name not in contracts:\n",
    "                    contracts[contract_name] = set()\n",
    "                contracts[contract_name].add(fragment)\n",
    "            else:\n",
    "                # If not part of a contract, categorize by type (events, functions, etc.)\n",
    "                type_match = re.search(r'^(event|function)', fragment)\n",
    "                if type_match:\n",
    "                    event_or_function = type_match.group(1)\n",
    "                    if event_or_function not in contracts:\n",
    "                        contracts[event_or_function] = set()\n",
    "                    contracts[event_or_function].add(fragment)\n",
    "        return contracts\n",
    "\n",
    "    # Organize and deduplicate\n",
    "    organized_code = organize_fragments(cleaned_fragments)\n",
    "\n",
    "    # Function to convert organized code dictionary into a string\n",
    "    def convert_to_string(organized_code):\n",
    "        # Start with an empty string\n",
    "        code_string = \"\"\n",
    "        # Iterate over each category and its list of items\n",
    "        for category, items in organized_code.items():\n",
    "            code_string += f\"\\n{category}:\\n\"  # Add the category name\n",
    "            for item in items:\n",
    "                code_string += f\"  {item}\\n\"  # Add each item in the category\n",
    "        return code_string.strip()  # Return the final string, stripped of any leading/trailing whitespace\n",
    "\n",
    "    # Convert the organized code to a string\n",
    "    code_string = convert_to_string(organized_code)\n",
    "\n",
    "    # Function to abstract the source code\n",
    "    def abstract_source_code(code):\n",
    "        # Remove detailed comments and metadata\n",
    "        code = re.sub(r'/\\*.*?\\*/', '', code, flags=re.DOTALL)  # Remove block comments\n",
    "        code = re.sub(r'//.*', '', code)  # Remove line comments\n",
    "        # code = re.sub(r'event\\s+(\\w+)\\(.*?\\);', r'event \\1;', code)\n",
    "        # code = re.sub(r'function\\s+(\\w+)\\(.*?\\)\\s*{.*?}', r'function \\1(params);', code, flags=re.DOTALL)\n",
    "        # code = re.sub(r'library\\s+(\\w+)\\s*{', r'library \\1 {', code)\n",
    "        code = re.sub(r'\\n\\s*\\n', '\\n', code)  # Reduce multiple newlines to a single one\n",
    "        return code\n",
    "\n",
    "    # Apply the abstraction function\n",
    "    abstracted_code = abstract_source_code(code_string)\n",
    "\n",
    "    # Return the abstracted code\n",
    "    return abstracted_code\n",
    "\n",
    "def process_and_chunk_source_code(source_code, window_size=200, step_size=100):\n",
    "    \"\"\"\n",
    "    Process the source code, then split it into chunks using a sliding window approach.\n",
    "    \"\"\"\n",
    "    # Process the source code\n",
    "    processed_code = process_source_code_simplified(source_code)\n",
    "    \n",
    "    # Split the processed code into chunks using sliding window\n",
    "    chunks = sliding_window_chunks(processed_code, window_size, step_size)\n",
    "    \n",
    "    # Return the chunks\n",
    "    return chunks\n",
    "\n",
    "def apply_sliding_window(df, window_size=500, step_size=250):\n",
    "    df_expanded = pd.DataFrame()\n",
    "    for index, row in df.iterrows():\n",
    "        source_code = row['source_code']\n",
    "        chunks = process_and_chunk_source_code(source_code, window_size, step_size)\n",
    "        for chunk in chunks:\n",
    "            new_row = row.copy()\n",
    "            new_row['processed_source_code'] = chunk\n",
    "            df_expanded = df_expanded.append(new_row, ignore_index=True)\n",
    "    return df_expanded\n",
    "\n",
    "# Apply the function to train, test, and validation DataFrames\n",
    "train_df_combined = apply_sliding_window(train_df)\n",
    "test_df_combined = apply_sliding_window(test_df)\n",
    "val_df_combined = apply_sliding_window(val_df)"
   ]
  },
  {
   "cell_type": "markdown",
   "id": "c14aeb30-abd5-4a05-add9-5690841a8b14",
   "metadata": {},
   "source": [
    "#### Tokenize Dataset"
   ]
  },
  {
   "cell_type": "code",
   "execution_count": 305,
   "id": "cf36f3ee-d8fe-436d-9098-bc79a7df59e8",
   "metadata": {},
   "outputs": [
    {
     "name": "stderr",
     "output_type": "stream",
     "text": [
      "loading configuration file config.json from cache at /home/e12329504/.cache/huggingface/hub/models--microsoft--codebert-base/snapshots/3b0952feddeffad0063f274080e3c23d75e7eb39/config.json\n",
      "Model config RobertaConfig {\n",
      "  \"_name_or_path\": \"microsoft/codebert-base\",\n",
      "  \"architectures\": [\n",
      "    \"RobertaModel\"\n",
      "  ],\n",
      "  \"attention_probs_dropout_prob\": 0.1,\n",
      "  \"bos_token_id\": 0,\n",
      "  \"classifier_dropout\": null,\n",
      "  \"eos_token_id\": 2,\n",
      "  \"hidden_act\": \"gelu\",\n",
      "  \"hidden_dropout_prob\": 0.1,\n",
      "  \"hidden_size\": 768,\n",
      "  \"initializer_range\": 0.02,\n",
      "  \"intermediate_size\": 3072,\n",
      "  \"layer_norm_eps\": 1e-05,\n",
      "  \"max_position_embeddings\": 514,\n",
      "  \"model_type\": \"roberta\",\n",
      "  \"num_attention_heads\": 12,\n",
      "  \"num_hidden_layers\": 12,\n",
      "  \"output_past\": true,\n",
      "  \"pad_token_id\": 1,\n",
      "  \"position_embedding_type\": \"absolute\",\n",
      "  \"transformers_version\": \"4.42.0.dev0\",\n",
      "  \"type_vocab_size\": 1,\n",
      "  \"use_cache\": true,\n",
      "  \"vocab_size\": 50265\n",
      "}\n",
      "\n",
      "loading file vocab.json from cache at /home/e12329504/.cache/huggingface/hub/models--microsoft--codebert-base/snapshots/3b0952feddeffad0063f274080e3c23d75e7eb39/vocab.json\n",
      "loading file merges.txt from cache at /home/e12329504/.cache/huggingface/hub/models--microsoft--codebert-base/snapshots/3b0952feddeffad0063f274080e3c23d75e7eb39/merges.txt\n",
      "loading file tokenizer.json from cache at None\n",
      "loading file added_tokens.json from cache at None\n",
      "loading file special_tokens_map.json from cache at /home/e12329504/.cache/huggingface/hub/models--microsoft--codebert-base/snapshots/3b0952feddeffad0063f274080e3c23d75e7eb39/special_tokens_map.json\n",
      "loading file tokenizer_config.json from cache at /home/e12329504/.cache/huggingface/hub/models--microsoft--codebert-base/snapshots/3b0952feddeffad0063f274080e3c23d75e7eb39/tokenizer_config.json\n",
      "loading configuration file config.json from cache at /home/e12329504/.cache/huggingface/hub/models--microsoft--codebert-base/snapshots/3b0952feddeffad0063f274080e3c23d75e7eb39/config.json\n",
      "Model config RobertaConfig {\n",
      "  \"_name_or_path\": \"microsoft/codebert-base\",\n",
      "  \"architectures\": [\n",
      "    \"RobertaModel\"\n",
      "  ],\n",
      "  \"attention_probs_dropout_prob\": 0.1,\n",
      "  \"bos_token_id\": 0,\n",
      "  \"classifier_dropout\": null,\n",
      "  \"eos_token_id\": 2,\n",
      "  \"hidden_act\": \"gelu\",\n",
      "  \"hidden_dropout_prob\": 0.1,\n",
      "  \"hidden_size\": 768,\n",
      "  \"initializer_range\": 0.02,\n",
      "  \"intermediate_size\": 3072,\n",
      "  \"layer_norm_eps\": 1e-05,\n",
      "  \"max_position_embeddings\": 514,\n",
      "  \"model_type\": \"roberta\",\n",
      "  \"num_attention_heads\": 12,\n",
      "  \"num_hidden_layers\": 12,\n",
      "  \"output_past\": true,\n",
      "  \"pad_token_id\": 1,\n",
      "  \"position_embedding_type\": \"absolute\",\n",
      "  \"transformers_version\": \"4.42.0.dev0\",\n",
      "  \"type_vocab_size\": 1,\n",
      "  \"use_cache\": true,\n",
      "  \"vocab_size\": 50265\n",
      "}\n",
      "\n",
      "loading configuration file config.json from cache at /home/e12329504/.cache/huggingface/hub/models--microsoft--codebert-base/snapshots/3b0952feddeffad0063f274080e3c23d75e7eb39/config.json\n",
      "Model config RobertaConfig {\n",
      "  \"_name_or_path\": \"microsoft/codebert-base\",\n",
      "  \"architectures\": [\n",
      "    \"RobertaModel\"\n",
      "  ],\n",
      "  \"attention_probs_dropout_prob\": 0.1,\n",
      "  \"bos_token_id\": 0,\n",
      "  \"classifier_dropout\": null,\n",
      "  \"eos_token_id\": 2,\n",
      "  \"hidden_act\": \"gelu\",\n",
      "  \"hidden_dropout_prob\": 0.1,\n",
      "  \"hidden_size\": 768,\n",
      "  \"initializer_range\": 0.02,\n",
      "  \"intermediate_size\": 3072,\n",
      "  \"layer_norm_eps\": 1e-05,\n",
      "  \"max_position_embeddings\": 514,\n",
      "  \"model_type\": \"roberta\",\n",
      "  \"num_attention_heads\": 12,\n",
      "  \"num_hidden_layers\": 12,\n",
      "  \"output_past\": true,\n",
      "  \"pad_token_id\": 1,\n",
      "  \"position_embedding_type\": \"absolute\",\n",
      "  \"transformers_version\": \"4.42.0.dev0\",\n",
      "  \"type_vocab_size\": 1,\n",
      "  \"use_cache\": true,\n",
      "  \"vocab_size\": 50265\n",
      "}\n",
      "\n"
     ]
    }
   ],
   "source": [
    "tokenizer = AutoTokenizer.from_pretrained(\"microsoft/codebert-base\")\n",
    "\n",
    "def tokenize(source_code):\n",
    "    return tokenizer.encode(source_code, \n",
    "                            padding=\"max_length\", \n",
    "                            truncation=True, \n",
    "                            max_length=tokenizer.model_max_length)"
   ]
  },
  {
   "cell_type": "code",
   "execution_count": 306,
   "id": "704087e5-7479-4bc2-bf6c-d115bc835e42",
   "metadata": {
    "scrolled": true
   },
   "outputs": [
    {
     "name": "stderr",
     "output_type": "stream",
     "text": [
      "/tmp/ipykernel_268/3873340288.py:1: SettingWithCopyWarning: \n",
      "A value is trying to be set on a copy of a slice from a DataFrame.\n",
      "Try using .loc[row_indexer,col_indexer] = value instead\n",
      "\n",
      "See the caveats in the documentation: https://pandas.pydata.org/pandas-docs/stable/user_guide/indexing.html#returning-a-view-versus-a-copy\n",
      "  train_df['tokenized'] = train_df['processed_source_code'].apply(tokenize)\n",
      "/tmp/ipykernel_268/3873340288.py:2: SettingWithCopyWarning: \n",
      "A value is trying to be set on a copy of a slice from a DataFrame.\n",
      "Try using .loc[row_indexer,col_indexer] = value instead\n",
      "\n",
      "See the caveats in the documentation: https://pandas.pydata.org/pandas-docs/stable/user_guide/indexing.html#returning-a-view-versus-a-copy\n",
      "  train_df['token_count'] = train_df['processed_source_code'].apply(len)\n"
     ]
    }
   ],
   "source": [
    "train_df['tokenized'] = train_df['processed_source_code'].apply(tokenize)\n",
    "train_df['token_count'] = train_df['processed_source_code'].apply(len)\n",
    "\n",
    "test_df['tokenized'] = test_df['processed_source_code'].apply(tokenize)\n",
    "test_df['token_count'] = test_df['processed_source_code'].apply(len)\n",
    "\n",
    "val_df['tokenized'] = val_df['processed_source_code'].apply(tokenize)\n",
    "val_df['token_count'] = val_df['processed_source_code'].apply(len)"
   ]
  },
  {
   "cell_type": "code",
   "execution_count": 307,
   "id": "8aae1f1c-2034-4210-ae30-8f54d3d27c1b",
   "metadata": {},
   "outputs": [],
   "source": [
    "train_df_expanded['tokenized'] = train_df_expanded['processed_source_code'].apply(tokenize)\n",
    "train_df_expanded['token_count'] = train_df_expanded['processed_source_code'].apply(len)\n",
    "\n",
    "test_df_expanded['tokenized'] = test_df_expanded['processed_source_code'].apply(tokenize)\n",
    "test_df_expanded['token_count'] = test_df_expanded['processed_source_code'].apply(len)\n",
    "\n",
    "val_df_expanded['tokenized'] = val_df_expanded['processed_source_code'].apply(tokenize)\n",
    "val_df_expanded['token_count'] = val_df_expanded['processed_source_code'].apply(len)"
   ]
  },
  {
   "cell_type": "code",
   "execution_count": 308,
   "id": "c4c87a53-7711-40d7-b314-66fbe372c52c",
   "metadata": {},
   "outputs": [],
   "source": [
    "train_df_combined['tokenized'] = train_df_combined['processed_source_code'].apply(tokenize)\n",
    "train_df_combined['token_count'] = train_df_combined['processed_source_code'].apply(len)\n",
    "\n",
    "test_df_combined['tokenized'] = test_df_combined['processed_source_code'].apply(tokenize)\n",
    "test_df_combined['token_count'] = test_df_combined['processed_source_code'].apply(len)\n",
    "\n",
    "val_df_combined['tokenized'] = val_df_combined['processed_source_code'].apply(tokenize)\n",
    "val_df_combined['token_count'] = val_df_combined['processed_source_code'].apply(len)"
   ]
  },
  {
   "cell_type": "code",
   "execution_count": 309,
   "id": "289dcc13-0913-44ed-9745-924c685a686f",
   "metadata": {},
   "outputs": [
    {
     "data": {
      "image/png": "[encoded data removed]",
      "text/plain": [
       "<Figure size 800x600 with 1 Axes>"
      ]
     },
     "metadata": {},
     "output_type": "display_data"
    }
   ],
   "source": [
    "# Plot histogram with logarithmic scale on y-axis\n",
    "plt.figure(figsize=(8, 6))\n",
    "plt.hist(train_df['token_count'], bins=20, color='skyblue', edgecolor='black')\n",
    "plt.yscale('log')  # Set logarithmic scale for y-axis\n",
    "plt.xlabel('token_count')\n",
    "plt.ylabel('Frequency')\n",
    "plt.title('Histogram of token_count with Logarithmic Scale Filtering')\n",
    "plt.grid(True)\n",
    "plt.show()"
   ]
  },
  {
   "cell_type": "code",
   "execution_count": 310,
   "id": "4ef7a0f2-6348-4c80-a798-5d90ce7aa5a2",
   "metadata": {},
   "outputs": [
    {
     "data": {
      "image/png": "[encoded data removed]",
      "text/plain": [
       "<Figure size 800x600 with 1 Axes>"
      ]
     },
     "metadata": {},
     "output_type": "display_data"
    }
   ],
   "source": [
    "# Plot histogram with logarithmic scale on y-axis\n",
    "plt.figure(figsize=(8, 6))\n",
    "plt.hist(train_df_expanded['token_count'], bins=20, color='skyblue', edgecolor='black')\n",
    "plt.yscale('log')  # Set logarithmic scale for y-axis\n",
    "plt.xlabel('token_count')\n",
    "plt.ylabel('Frequency')\n",
    "plt.title('Histogram of token_count with Logarithmic Scale Sliding Window')\n",
    "plt.grid(True)\n",
    "plt.show()"
   ]
  },
  {
   "cell_type": "code",
   "execution_count": 311,
   "id": "e13dc524-1806-4a05-9888-80fd3393ca32",
   "metadata": {},
   "outputs": [
    {
     "data": {
      "image/png": "[encoded data removed]",
      "text/plain": [
       "<Figure size 800x600 with 1 Axes>"
      ]
     },
     "metadata": {},
     "output_type": "display_data"
    }
   ],
   "source": [
    "# Plot histogram with logarithmic scale on y-axis\n",
    "plt.figure(figsize=(8, 6))\n",
    "plt.hist(train_df_combined['token_count'], bins=20, color='skyblue', edgecolor='black')\n",
    "plt.yscale('log')  # Set logarithmic scale for y-axis\n",
    "plt.xlabel('token_count')\n",
    "plt.ylabel('Frequency')\n",
    "plt.title('Histogram of token_count with Logarithmic Scale Combined')\n",
    "plt.grid(True)\n",
    "plt.show()"
   ]
  },
  {
   "cell_type": "code",
   "execution_count": 312,
   "id": "18a806a3-9db8-44f1-b163-b3dc2a302314",
   "metadata": {},
   "outputs": [
    {
     "data": {
      "text/plain": [
       "6562"
      ]
     },
     "execution_count": 312,
     "metadata": {},
     "output_type": "execute_result"
    }
   ],
   "source": [
    "len(train_df[train_df['token_count'] <= 512])"
   ]
  },
  {
   "cell_type": "code",
   "execution_count": 313,
   "id": "03ed819d-881a-4bfc-8ddf-e0ba6d0b8c4f",
   "metadata": {},
   "outputs": [
    {
     "data": {
      "text/plain": [
       "2340"
      ]
     },
     "execution_count": 313,
     "metadata": {},
     "output_type": "execute_result"
    }
   ],
   "source": [
    "len(train_df[train_df['token_count'] > 512])"
   ]
  },
  {
   "cell_type": "code",
   "execution_count": 314,
   "id": "6da73189-89c6-4cfe-9e83-63d46e7de35e",
   "metadata": {},
   "outputs": [
    {
     "data": {
      "text/plain": [
       "55937"
      ]
     },
     "execution_count": 314,
     "metadata": {},
     "output_type": "execute_result"
    }
   ],
   "source": [
    "len(train_df_expanded[train_df_expanded['token_count'] <= 512])"
   ]
  },
  {
   "cell_type": "code",
   "execution_count": 315,
   "id": "9d27d5fe-9b0e-4502-8987-bae3e5649d15",
   "metadata": {},
   "outputs": [
    {
     "data": {
      "text/plain": [
       "0"
      ]
     },
     "execution_count": 315,
     "metadata": {},
     "output_type": "execute_result"
    }
   ],
   "source": [
    "len(train_df_expanded[train_df_expanded['token_count'] > 512])"
   ]
  },
  {
   "cell_type": "code",
   "execution_count": 316,
   "id": "b86d9e46-1056-42dc-aa60-602f5fda2bf4",
   "metadata": {},
   "outputs": [
    {
     "data": {
      "text/plain": [
       "17256"
      ]
     },
     "execution_count": 316,
     "metadata": {},
     "output_type": "execute_result"
    }
   ],
   "source": [
    "len(train_df_combined[train_df_combined['token_count'] <= 512])"
   ]
  },
  {
   "cell_type": "code",
   "execution_count": 317,
   "id": "f0a77bc1-3f68-47bd-ad13-1ed5b59839bd",
   "metadata": {},
   "outputs": [
    {
     "data": {
      "text/plain": [
       "0"
      ]
     },
     "execution_count": 317,
     "metadata": {},
     "output_type": "execute_result"
    }
   ],
   "source": [
    "len(train_df_combined[train_df_combined['token_count'] > 512])"
   ]
  },
  {
   "cell_type": "code",
   "execution_count": 231,
   "id": "e5d542f6-a93e-4adf-afe5-0e8f1dd7eb84",
   "metadata": {},
   "outputs": [],
   "source": [
    "train_df = train_df[train_df['token_count'] <= 512]\n",
    "test_df = test_df[test_df['token_count'] <= 512]\n",
    "val_df = val_df[val_df['token_count'] <= 512]\n",
    "train_df_expanded = train_df_expanded[train_df_expanded['token_count'] <= 512]\n",
    "test_df_expanded = test_df_expanded[test_df_expanded['token_count'] <= 512]\n",
    "val_df_expanded = val_df_expanded[val_df_expanded['token_count'] <= 512]\n",
    "train_df_combined = train_df_combined[train_df_combined['token_count'] <= 512]\n",
    "test_df_combined = test_df_combined[test_df_combined['token_count'] <= 512]\n",
    "val_df_combined = val_df_combined[val_df_combined['token_count'] <= 512]"
   ]
  },
  {
   "cell_type": "code",
   "execution_count": 318,
   "id": "5a4fd94e-8d66-43dd-82ca-b060fb5a222d",
   "metadata": {},
   "outputs": [],
   "source": [
    "def convert_dataframe_to_dataset(df):\n",
    "    def transform_row(row):\n",
    "        input_ids = row['tokenized']\n",
    "        attention_mask = [1] * len(input_ids)\n",
    "        return {\n",
    "            \"input_ids\": input_ids,\n",
    "            \"attention_mask\": attention_mask,\n",
    "            \"labels\": row['slither']  # Assuming 'slither' is already in the correct format\n",
    "        }\n",
    "    \n",
    "    df['slither'] = df['slither'].apply(lambda x: eval(x) if isinstance(x, str) else x)\n",
    "    \n",
    "    # Explode the dataframe\n",
    "    df_exploded = df.explode('slither')\n",
    "    \n",
    "    # Apply the transformation\n",
    "    transformed_data = df_exploded.apply(transform_row, axis=1).tolist()\n",
    "    \n",
    "    # Convert to Dataset\n",
    "    dataset = Dataset.from_pandas(pd.DataFrame(transformed_data))\n",
    "    return dataset"
   ]
  },
  {
   "cell_type": "code",
   "execution_count": 319,
   "id": "c55dddd4-57ed-441d-88f2-cc97312f9e98",
   "metadata": {},
   "outputs": [
    {
     "name": "stderr",
     "output_type": "stream",
     "text": [
      "/tmp/ipykernel_268/2286320498.py:11: SettingWithCopyWarning: \n",
      "A value is trying to be set on a copy of a slice from a DataFrame.\n",
      "Try using .loc[row_indexer,col_indexer] = value instead\n",
      "\n",
      "See the caveats in the documentation: https://pandas.pydata.org/pandas-docs/stable/user_guide/indexing.html#returning-a-view-versus-a-copy\n",
      "  df['slither'] = df['slither'].apply(lambda x: eval(x) if isinstance(x, str) else x)\n"
     ]
    }
   ],
   "source": [
    "train_dataset = convert_dataframe_to_dataset(train_df)\n",
    "test_dataset = convert_dataframe_to_dataset(test_df)\n",
    "val_dataset = convert_dataframe_to_dataset(val_df)"
   ]
  },
  {
   "cell_type": "code",
   "execution_count": 320,
   "id": "12c35729-0108-4974-b660-9c706886b6eb",
   "metadata": {},
   "outputs": [],
   "source": [
    "train_dataset_expanded = convert_dataframe_to_dataset(train_df_expanded)\n",
    "test_dataset_expanded = convert_dataframe_to_dataset(test_df_expanded)\n",
    "val_dataset_expanded = convert_dataframe_to_dataset(val_df_expanded)"
   ]
  },
  {
   "cell_type": "code",
   "execution_count": 321,
   "id": "91a429ad-970b-45c2-ad2c-e5ee5c3c66c0",
   "metadata": {},
   "outputs": [],
   "source": [
    "train_dataset_combined = convert_dataframe_to_dataset(train_df_combined)\n",
    "test_dataset_combined = convert_dataframe_to_dataset(test_df_combined)\n",
    "val_dataset_combined = convert_dataframe_to_dataset(val_df_combined)"
   ]
  },
  {
   "cell_type": "code",
   "execution_count": 322,
   "id": "2b8b438e-cb4c-4706-a43a-7c838e621359",
   "metadata": {},
   "outputs": [],
   "source": [
    "datasets = DatasetDict({\n",
    "    \"train\": train_dataset,\n",
    "    \"test\": test_dataset,\n",
    "    \"validation\": val_dataset\n",
    "})"
   ]
  },
  {
   "cell_type": "code",
   "execution_count": 323,
   "id": "59c8595f-86fd-48de-b091-5ce659ae750d",
   "metadata": {},
   "outputs": [],
   "source": [
    "datasets_expanded = DatasetDict({\n",
    "    \"train\": train_dataset_expanded,\n",
    "    \"test\": test_dataset_expanded,\n",
    "    \"validation\": val_dataset_expanded\n",
    "})"
   ]
  },
  {
   "cell_type": "code",
   "execution_count": 324,
   "id": "633750d8-2205-41b4-bcca-6eb377c94eac",
   "metadata": {},
   "outputs": [],
   "source": [
    "datasets_combined = DatasetDict({\n",
    "    \"train\": train_dataset_combined,\n",
    "    \"test\": test_dataset_combined,\n",
    "    \"validation\": val_dataset_combined\n",
    "})"
   ]
  },
  {
   "cell_type": "code",
   "execution_count": 325,
   "id": "72e223fe-f16d-4196-97b8-1ce4ecfc5568",
   "metadata": {},
   "outputs": [
    {
     "data": {
      "text/plain": [
       "DatasetDict({\n",
       "    train: Dataset({\n",
       "        features: ['input_ids', 'attention_mask', 'labels'],\n",
       "        num_rows: 10426\n",
       "    })\n",
       "    test: Dataset({\n",
       "        features: ['input_ids', 'attention_mask', 'labels'],\n",
       "        num_rows: 2178\n",
       "    })\n",
       "    validation: Dataset({\n",
       "        features: ['input_ids', 'attention_mask', 'labels'],\n",
       "        num_rows: 1451\n",
       "    })\n",
       "})"
      ]
     },
     "execution_count": 325,
     "metadata": {},
     "output_type": "execute_result"
    }
   ],
   "source": [
    "datasets"
   ]
  },
  {
   "cell_type": "code",
   "execution_count": 326,
   "id": "9b14c60b-f409-434a-afd6-3a8b6d97525b",
   "metadata": {},
   "outputs": [
    {
     "data": {
      "text/plain": [
       "DatasetDict({\n",
       "    train: Dataset({\n",
       "        features: ['input_ids', 'attention_mask', 'labels'],\n",
       "        num_rows: 67147\n",
       "    })\n",
       "    test: Dataset({\n",
       "        features: ['input_ids', 'attention_mask', 'labels'],\n",
       "        num_rows: 14135\n",
       "    })\n",
       "    validation: Dataset({\n",
       "        features: ['input_ids', 'attention_mask', 'labels'],\n",
       "        num_rows: 9192\n",
       "    })\n",
       "})"
      ]
     },
     "execution_count": 326,
     "metadata": {},
     "output_type": "execute_result"
    }
   ],
   "source": [
    "datasets_expanded"
   ]
  },
  {
   "cell_type": "code",
   "execution_count": 327,
   "id": "8dc898d6-c12f-409d-a401-6fb5de18bfcc",
   "metadata": {},
   "outputs": [
    {
     "data": {
      "text/plain": [
       "DatasetDict({\n",
       "    train: Dataset({\n",
       "        features: ['input_ids', 'attention_mask', 'labels'],\n",
       "        num_rows: 21157\n",
       "    })\n",
       "    test: Dataset({\n",
       "        features: ['input_ids', 'attention_mask', 'labels'],\n",
       "        num_rows: 4416\n",
       "    })\n",
       "    validation: Dataset({\n",
       "        features: ['input_ids', 'attention_mask', 'labels'],\n",
       "        num_rows: 2942\n",
       "    })\n",
       "})"
      ]
     },
     "execution_count": 327,
     "metadata": {},
     "output_type": "execute_result"
    }
   ],
   "source": [
    "datasets_combined"
   ]
  },
  {
   "cell_type": "code",
   "execution_count": 328,
   "id": "2b3c9f6b-8fb6-4494-a93c-1addbf76a400",
   "metadata": {},
   "outputs": [
    {
     "data": {
      "application/vnd.jupyter.widget-view+json": {
       "model_id": "c88740a509644aaf93b240645f663dea",
       "version_major": 2,
       "version_minor": 0
      },
      "text/plain": [
       "Saving the dataset (0/1 shards):   0%|          | 0/10426 [00:00<?, ? examples/s]"
      ]
     },
     "metadata": {},
     "output_type": "display_data"
    },
    {
     "data": {
      "application/vnd.jupyter.widget-view+json": {
       "model_id": "4da87136e84649179ee427002b07fd90",
       "version_major": 2,
       "version_minor": 0
      },
      "text/plain": [
       "Saving the dataset (0/1 shards):   0%|          | 0/2178 [00:00<?, ? examples/s]"
      ]
     },
     "metadata": {},
     "output_type": "display_data"
    },
    {
     "data": {
      "application/vnd.jupyter.widget-view+json": {
       "model_id": "90eb1592156741378a17d1210f29cd6c",
       "version_major": 2,
       "version_minor": 0
      },
      "text/plain": [
       "Saving the dataset (0/1 shards):   0%|          | 0/1451 [00:00<?, ? examples/s]"
      ]
     },
     "metadata": {},
     "output_type": "display_data"
    },
    {
     "data": {
      "application/vnd.jupyter.widget-view+json": {
       "model_id": "cfd57ae3544349fb8c6f4860c1f320ea",
       "version_major": 2,
       "version_minor": 0
      },
      "text/plain": [
       "Saving the dataset (0/2 shards):   0%|          | 0/67147 [00:00<?, ? examples/s]"
      ]
     },
     "metadata": {},
     "output_type": "display_data"
    },
    {
     "data": {
      "application/vnd.jupyter.widget-view+json": {
       "model_id": "f4f3a88758d044d9a5f9cf298ce2271d",
       "version_major": 2,
       "version_minor": 0
      },
      "text/plain": [
       "Saving the dataset (0/1 shards):   0%|          | 0/14135 [00:00<?, ? examples/s]"
      ]
     },
     "metadata": {},
     "output_type": "display_data"
    },
    {
     "data": {
      "application/vnd.jupyter.widget-view+json": {
       "model_id": "d8fb010f9ec04fcba71258aa4c6c0f91",
       "version_major": 2,
       "version_minor": 0
      },
      "text/plain": [
       "Saving the dataset (0/1 shards):   0%|          | 0/9192 [00:00<?, ? examples/s]"
      ]
     },
     "metadata": {},
     "output_type": "display_data"
    },
    {
     "data": {
      "application/vnd.jupyter.widget-view+json": {
       "model_id": "b24369cf59724940bc90282c339d0a6b",
       "version_major": 2,
       "version_minor": 0
      },
      "text/plain": [
       "Saving the dataset (0/1 shards):   0%|          | 0/21157 [00:00<?, ? examples/s]"
      ]
     },
     "metadata": {},
     "output_type": "display_data"
    },
    {
     "data": {
      "application/vnd.jupyter.widget-view+json": {
       "model_id": "7ee12b10c727448caf1a2d818d5fc641",
       "version_major": 2,
       "version_minor": 0
      },
      "text/plain": [
       "Saving the dataset (0/1 shards):   0%|          | 0/4416 [00:00<?, ? examples/s]"
      ]
     },
     "metadata": {},
     "output_type": "display_data"
    },
    {
     "data": {
      "application/vnd.jupyter.widget-view+json": {
       "model_id": "16678f33718a4308a22414b1896f9b44",
       "version_major": 2,
       "version_minor": 0
      },
      "text/plain": [
       "Saving the dataset (0/1 shards):   0%|          | 0/2942 [00:00<?, ? examples/s]"
      ]
     },
     "metadata": {},
     "output_type": "display_data"
    }
   ],
   "source": [
    "# Save the dataset\n",
    "save_path = \"dataset/\"\n",
    "datasets.save_to_disk(save_path)\n",
    "save_path = \"dataset_expanded/\"\n",
    "datasets_expanded.save_to_disk(save_path)\n",
    "save_path = \"dataset_combined/\"\n",
    "datasets_combined.save_to_disk(save_path)"
   ]
  },
  {
   "cell_type": "code",
   "execution_count": 153,
   "id": "a70753ab-8d56-4a3b-8429-6cc0570d2864",
   "metadata": {},
   "outputs": [],
   "source": [
    "# Load Big dataset\n",
    "# datasets = DatasetDict.load_from_disk(save_path)\n",
    "# datasets"
   ]
  },
  {
   "cell_type": "code",
   "execution_count": 329,
   "id": "f78215ef-b3a2-442c-9cad-35778b4f2a2f",
   "metadata": {},
   "outputs": [
    {
     "data": {
      "image/png": "[encoded data removed]",
      "text/plain": [
       "<Figure size 640x480 with 1 Axes>"
      ]
     },
     "metadata": {},
     "output_type": "display_data"
    },
    {
     "data": {
      "image/png": "[encoded data removed]",
      "text/plain": [
       "<Figure size 640x480 with 1 Axes>"
      ]
     },
     "metadata": {},
     "output_type": "display_data"
    }
   ],
   "source": [
    "def plot_class_distribution(labels):\n",
    "    plt.hist(labels, bins=len(set(labels)))\n",
    "    plt.xlabel('Class')\n",
    "    plt.ylabel('Frequency')\n",
    "    plt.title('Class Distribution')\n",
    "    plt.show()\n",
    "\n",
    "plot_class_distribution(datasets[\"train\"][\"labels\"])\n",
    "plot_class_distribution(datasets[\"validation\"][\"labels\"])"
   ]
  },
  {
   "cell_type": "code",
   "execution_count": 330,
   "id": "18acc38e-f101-4456-91aa-db31bf24d72f",
   "metadata": {},
   "outputs": [
    {
     "data": {
      "image/png": "[encoded data removed]",
      "text/plain": [
       "<Figure size 640x480 with 1 Axes>"
      ]
     },
     "metadata": {},
     "output_type": "display_data"
    },
    {
     "data": {
      "image/png": "[encoded data removed]",
      "text/plain": [
       "<Figure size 640x480 with 1 Axes>"
      ]
     },
     "metadata": {},
     "output_type": "display_data"
    }
   ],
   "source": [
    "def plot_class_distribution(labels):\n",
    "    plt.hist(labels, bins=len(set(labels)))\n",
    "    plt.xlabel('Class')\n",
    "    plt.ylabel('Frequency')\n",
    "    plt.title('Class Distribution')\n",
    "    plt.show()\n",
    "\n",
    "plot_class_distribution(datasets_expanded[\"train\"][\"labels\"])\n",
    "plot_class_distribution(datasets_expanded[\"validation\"][\"labels\"])"
   ]
  },
  {
   "cell_type": "code",
   "execution_count": 331,
   "id": "b536f122-ca02-4747-82f4-3e6b41045021",
   "metadata": {},
   "outputs": [
    {
     "data": {
      "image/png": "[encoded data removed]",
      "text/plain": [
       "<Figure size 640x480 with 1 Axes>"
      ]
     },
     "metadata": {},
     "output_type": "display_data"
    },
    {
     "data": {
      "image/png": "[encoded data removed]",
      "text/plain": [
       "<Figure size 640x480 with 1 Axes>"
      ]
     },
     "metadata": {},
     "output_type": "display_data"
    }
   ],
   "source": [
    "def plot_class_distribution(labels):\n",
    "    plt.hist(labels, bins=len(set(labels)))\n",
    "    plt.xlabel('Class')\n",
    "    plt.ylabel('Frequency')\n",
    "    plt.title('Class Distribution')\n",
    "    plt.show()\n",
    "\n",
    "plot_class_distribution(datasets_combined[\"train\"][\"labels\"])\n",
    "plot_class_distribution(datasets_combined[\"validation\"][\"labels\"])"
   ]
  },
  {
   "cell_type": "markdown",
   "id": "a0ad79f8-c64e-453c-8f22-d7446d37c161",
   "metadata": {},
   "source": [
    "## 3. Model Configuration\n",
    "\n",
    "Model: https://huggingface.co/transformers/v2.9.1/model_doc/roberta.html#robertaforsequenceclassification"
   ]
  },
  {
   "cell_type": "code",
   "execution_count": 332,
   "id": "7347fba8-3210-475f-a0fb-01c15209554a",
   "metadata": {},
   "outputs": [
    {
     "name": "stdout",
     "output_type": "stream",
     "text": [
      "Unique numbers: {0, 1, 2, 3, 4, 5}\n",
      "Count of unique numbers: 6\n"
     ]
    }
   ],
   "source": [
    "# Flatten the lists into a single list\n",
    "flattened_list = [number for sublist in train_df['slither'] for number in sublist]\n",
    "\n",
    "# Convert to a set to get unique numbers\n",
    "unique_numbers = set(flattened_list)\n",
    "\n",
    "# Get the count of unique numbers\n",
    "unique_count = len(unique_numbers)\n",
    "\n",
    "# Print the unique numbers and their count\n",
    "print(\"Unique numbers:\", unique_numbers)\n",
    "print(\"Count of unique numbers:\", unique_count)"
   ]
  },
  {
   "cell_type": "code",
   "execution_count": 334,
   "id": "dc4b6b3a-d29e-40a8-879f-4331e4752db9",
   "metadata": {
    "scrolled": true
   },
   "outputs": [
    {
     "name": "stderr",
     "output_type": "stream",
     "text": [
      "loading configuration file config.json from cache at /home/e12329504/.cache/huggingface/hub/models--microsoft--codebert-base/snapshots/3b0952feddeffad0063f274080e3c23d75e7eb39/config.json\n",
      "Model config RobertaConfig {\n",
      "  \"_name_or_path\": \"microsoft/codebert-base\",\n",
      "  \"architectures\": [\n",
      "    \"RobertaModel\"\n",
      "  ],\n",
      "  \"attention_probs_dropout_prob\": 0.1,\n",
      "  \"bos_token_id\": 0,\n",
      "  \"classifier_dropout\": null,\n",
      "  \"eos_token_id\": 2,\n",
      "  \"hidden_act\": \"gelu\",\n",
      "  \"hidden_dropout_prob\": 0.1,\n",
      "  \"hidden_size\": 768,\n",
      "  \"id2label\": {\n",
      "    \"0\": \"LABEL_0\",\n",
      "    \"1\": \"LABEL_1\",\n",
      "    \"2\": \"LABEL_2\",\n",
      "    \"3\": \"LABEL_3\",\n",
      "    \"4\": \"LABEL_4\",\n",
      "    \"5\": \"LABEL_5\"\n",
      "  },\n",
      "  \"initializer_range\": 0.02,\n",
      "  \"intermediate_size\": 3072,\n",
      "  \"label2id\": {\n",
      "    \"LABEL_0\": 0,\n",
      "    \"LABEL_1\": 1,\n",
      "    \"LABEL_2\": 2,\n",
      "    \"LABEL_3\": 3,\n",
      "    \"LABEL_4\": 4,\n",
      "    \"LABEL_5\": 5\n",
      "  },\n",
      "  \"layer_norm_eps\": 1e-05,\n",
      "  \"max_position_embeddings\": 514,\n",
      "  \"model_type\": \"roberta\",\n",
      "  \"num_attention_heads\": 12,\n",
      "  \"num_hidden_layers\": 12,\n",
      "  \"output_past\": true,\n",
      "  \"pad_token_id\": 1,\n",
      "  \"position_embedding_type\": \"absolute\",\n",
      "  \"transformers_version\": \"4.42.0.dev0\",\n",
      "  \"type_vocab_size\": 1,\n",
      "  \"use_cache\": true,\n",
      "  \"vocab_size\": 50265\n",
      "}\n",
      "\n",
      "Overriding torch_dtype=None with `torch_dtype=torch.float16` due to requirements of `bitsandbytes` to enable model loading in 8-bit or 4-bit. Pass your own torch_dtype to specify the dtype of the remaining non-linear layers or pass torch_dtype=torch.float16 to remove this warning.\n"
     ]
    },
    {
     "name": "stdout",
     "output_type": "stream",
     "text": [
      "Starting to load the model microsoft/codebert-base into memory\n"
     ]
    },
    {
     "name": "stderr",
     "output_type": "stream",
     "text": [
      "loading weights file pytorch_model.bin from cache at /home/e12329504/.cache/huggingface/hub/models--microsoft--codebert-base/snapshots/3b0952feddeffad0063f274080e3c23d75e7eb39/pytorch_model.bin\n",
      "Instantiating RobertaForSequenceClassification model under default dtype torch.float16.\n",
      "Some weights of the model checkpoint at microsoft/codebert-base were not used when initializing RobertaForSequenceClassification: ['pooler.dense.bias', 'pooler.dense.weight']\n",
      "- This IS expected if you are initializing RobertaForSequenceClassification from the checkpoint of a model trained on another task or with another architecture (e.g. initializing a BertForSequenceClassification model from a BertForPreTraining model).\n",
      "- This IS NOT expected if you are initializing RobertaForSequenceClassification from the checkpoint of a model that you expect to be exactly identical (initializing a BertForSequenceClassification model from a BertForSequenceClassification model).\n",
      "Some weights of RobertaForSequenceClassification were not initialized from the model checkpoint at microsoft/codebert-base and are newly initialized: ['classifier.dense.bias', 'classifier.dense.weight', 'classifier.out_proj.bias', 'classifier.out_proj.weight']\n",
      "You should probably TRAIN this model on a down-stream task to be able to use it for predictions and inference.\n"
     ]
    },
    {
     "name": "stdout",
     "output_type": "stream",
     "text": [
      "Successfully loaded the model microsoft/codebert-base into memory\n"
     ]
    }
   ],
   "source": [
    "from transformers import AutoTokenizer, AutoModelForCausalLM, BitsAndBytesConfig, AutoModelForSequenceClassification\n",
    "\n",
    "model_id = \"microsoft/codebert-base\"\n",
    "\n",
    "print(f\"Starting to load the model {model_id} into memory\")\n",
    "\n",
    "bnb_config = BitsAndBytesConfig(\n",
    "    load_in_4bit=True,\n",
    "    bnb_4bit_use_double_quant=True,\n",
    "    bnb_4bit_quant_type=\"nf4\",\n",
    "    bnb_4bit_compute_dtype=torch.float16\n",
    ")\n",
    "try:\n",
    "    model = AutoModelForSequenceClassification.from_pretrained(\n",
    "        model_id, \n",
    "        quantization_config=bnb_config, \n",
    "        device_map={\"\":0},\n",
    "        num_labels=unique_count\n",
    "    )\n",
    "    print(f\"Successfully loaded the model {model_id} into memory\")\n",
    "except Exception as e:\n",
    "    print(f\"Error loading model: {e}\")"
   ]
  },
  {
   "cell_type": "markdown",
   "id": "653acda0-3bbd-4abe-88f0-37eefb278322",
   "metadata": {},
   "source": [
    "## 4. Model Training"
   ]
  },
  {
   "cell_type": "markdown",
   "id": "7f2717a4-fc04-4307-960a-8acc523653f9",
   "metadata": {},
   "source": [
    "#### Applying QLoRA\n",
    "\n",
    "Method: https://github.com/artidoro/qlora"
   ]
  },
  {
   "cell_type": "code",
   "execution_count": 335,
   "id": "e70166c3-2a57-46b2-bb18-7dd6dbaad126",
   "metadata": {
    "scrolled": true
   },
   "outputs": [],
   "source": [
    "from peft import prepare_model_for_kbit_training\n",
    "\n",
    "model.gradient_checkpointing_enable()\n",
    "model = prepare_model_for_kbit_training(model)"
   ]
  },
  {
   "cell_type": "code",
   "execution_count": 336,
   "id": "3bcfe83d-35a5-4db3-9c01-78023f91516c",
   "metadata": {},
   "outputs": [
    {
     "name": "stdout",
     "output_type": "stream",
     "text": [
      "RobertaForSequenceClassification(\n",
      "  (roberta): RobertaModel(\n",
      "    (embeddings): RobertaEmbeddings(\n",
      "      (word_embeddings): Embedding(50265, 768, padding_idx=1)\n",
      "      (position_embeddings): Embedding(514, 768, padding_idx=1)\n",
      "      (token_type_embeddings): Embedding(1, 768)\n",
      "      (LayerNorm): LayerNorm((768,), eps=1e-05, elementwise_affine=True)\n",
      "      (dropout): Dropout(p=0.1, inplace=False)\n",
      "    )\n",
      "    (encoder): RobertaEncoder(\n",
      "      (layer): ModuleList(\n",
      "        (0-11): 12 x RobertaLayer(\n",
      "          (attention): RobertaAttention(\n",
      "            (self): RobertaSelfAttention(\n",
      "              (query): Linear4bit(in_features=768, out_features=768, bias=True)\n",
      "              (key): Linear4bit(in_features=768, out_features=768, bias=True)\n",
      "              (value): Linear4bit(in_features=768, out_features=768, bias=True)\n",
      "              (dropout): Dropout(p=0.1, inplace=False)\n",
      "            )\n",
      "            (output): RobertaSelfOutput(\n",
      "              (dense): Linear4bit(in_features=768, out_features=768, bias=True)\n",
      "              (LayerNorm): LayerNorm((768,), eps=1e-05, elementwise_affine=True)\n",
      "              (dropout): Dropout(p=0.1, inplace=False)\n",
      "            )\n",
      "          )\n",
      "          (intermediate): RobertaIntermediate(\n",
      "            (dense): Linear4bit(in_features=768, out_features=3072, bias=True)\n",
      "            (intermediate_act_fn): GELUActivation()\n",
      "          )\n",
      "          (output): RobertaOutput(\n",
      "            (dense): Linear4bit(in_features=3072, out_features=768, bias=True)\n",
      "            (LayerNorm): LayerNorm((768,), eps=1e-05, elementwise_affine=True)\n",
      "            (dropout): Dropout(p=0.1, inplace=False)\n",
      "          )\n",
      "        )\n",
      "      )\n",
      "    )\n",
      "  )\n",
      "  (classifier): RobertaClassificationHead(\n",
      "    (dense): Linear4bit(in_features=768, out_features=768, bias=True)\n",
      "    (dropout): Dropout(p=0.1, inplace=False)\n",
      "    (out_proj): Linear(in_features=768, out_features=6, bias=True)\n",
      "  )\n",
      ")\n"
     ]
    }
   ],
   "source": [
    "print(model)"
   ]
  },
  {
   "cell_type": "code",
   "execution_count": 337,
   "id": "828e2afc-58c1-457e-b981-c3c099e7d3c8",
   "metadata": {},
   "outputs": [],
   "source": [
    "def print_trainable_parameters(model):\n",
    "    \"\"\"\n",
    "    Prints the number of trainable parameters in the model.\n",
    "    \"\"\"\n",
    "    trainable_params = 0\n",
    "    all_param = 0\n",
    "    for _, param in model.named_parameters():\n",
    "        all_param += param.numel()\n",
    "        if param.requires_grad:\n",
    "            trainable_params += param.numel()\n",
    "    print(\n",
    "        f\"trainable params: {trainable_params} || all params: {all_param} || trainable%: {100 * trainable_params / all_param}\"\n",
    "    )"
   ]
  },
  {
   "cell_type": "code",
   "execution_count": 338,
   "id": "99928e01-d9a9-4e4f-aed7-a9c4c8f872d8",
   "metadata": {},
   "outputs": [
    {
     "name": "stdout",
     "output_type": "stream",
     "text": [
      "trainable params: 1339392 || all params: 83227398 || trainable%: 1.6093162013787816\n"
     ]
    }
   ],
   "source": [
    "from peft import LoraConfig, get_peft_model\n",
    "\n",
    "config = LoraConfig(\n",
    "    r=8, \n",
    "    lora_alpha=32, \n",
    "    target_modules=[\"query\", \"key\", \"value\", \"dense\"],  # Adjusted based on CodeBert Architecture\n",
    "    lora_dropout=0.05, \n",
    "    bias=\"none\", \n",
    "    task_type=\"SequenceClassification\"\n",
    ")\n",
    "\n",
    "model = get_peft_model(model, config)\n",
    "print_trainable_parameters(model)"
   ]
  },
  {
   "cell_type": "code",
   "execution_count": 339,
   "id": "e4c55e68-b535-4667-ab53-a2185df6d962",
   "metadata": {},
   "outputs": [],
   "source": [
    "def compute_metrics(pred):\n",
    "    labels = pred.label_ids\n",
    "    preds = np.argmax(pred.predictions, axis=1)\n",
    "    accuracy = (preds == labels).mean()\n",
    "    \n",
    "    print(\"Labels: \", labels)\n",
    "    print(\"Predictions: \", preds)\n",
    "    print(\"Accuracy: \", accuracy)\n",
    "    \n",
    "    return {\n",
    "        'accuracy': accuracy,\n",
    "    }"
   ]
  },
  {
   "cell_type": "markdown",
   "id": "a384a8cf-a410-4e3d-b2c6-f2aaa83c3770",
   "metadata": {},
   "source": [
    "#### On Reduced Tokens"
   ]
  },
  {
   "cell_type": "code",
   "execution_count": 344,
   "id": "ec7a29ce-7e1e-4d8b-8164-8400372acb39",
   "metadata": {
    "scrolled": true
   },
   "outputs": [
    {
     "name": "stderr",
     "output_type": "stream",
     "text": [
      "PyTorch: setting up devices\n",
      "The default value for the training argument `--report_to` will change in v5 (from all installed integrations to none). In v5, you will need to use `--report_to all` to get the same behavior as now. You should start updating your code and make this info disappear :-).\n",
      "max_steps is given, it will override any value given in num_train_epochs\n",
      "Using auto half precision backend\n",
      "***** Running training *****\n",
      "  Num examples = 10,426\n",
      "  Num Epochs = 1\n",
      "  Instantaneous batch size per device = 16\n",
      "  Total train batch size (w. parallel, distributed & accumulation) = 32\n",
      "  Gradient Accumulation steps = 2\n",
      "  Total optimization steps = 200\n",
      "  Number of trainable parameters = 1,339,392\n",
      "Automatic Weights & Biases logging enabled, to disable set os.environ[\"WANDB_DISABLED\"] = \"true\"\n",
      "/opt/conda/lib/python3.11/site-packages/torch/utils/checkpoint.py:464: UserWarning: torch.utils.checkpoint: the use_reentrant parameter should be passed explicitly. In version 2.4 we will raise an exception if use_reentrant is not passed. use_reentrant=False is recommended, but if you need to preserve the current default behavior, you can pass use_reentrant=True. Refer to docs for more details on the differences between the two variants.\n",
      "  warnings.warn(\n"
     ]
    },
    {
     "data": {
      "text/html": [
       "\n",
       "    <div>\n",
       "      \n",
       "      <progress value='200' max='200' style='width:300px; height:20px; vertical-align: middle;'></progress>\n",
       "      [200/200 07:32, Epoch 0/1]\n",
       "    </div>\n",
       "    <table border=\"1\" class=\"dataframe\">\n",
       "  <thead>\n",
       " <tr style=\"text-align: left;\">\n",
       "      <th>Step</th>\n",
       "      <th>Training Loss</th>\n",
       "    </tr>\n",
       "  </thead>\n",
       "  <tbody>\n",
       "    <tr>\n",
       "      <td>8</td>\n",
       "      <td>1.559300</td>\n",
       "    </tr>\n",
       "    <tr>\n",
       "      <td>16</td>\n",
       "      <td>1.530000</td>\n",
       "    </tr>\n",
       "    <tr>\n",
       "      <td>24</td>\n",
       "      <td>1.521600</td>\n",
       "    </tr>\n",
       "    <tr>\n",
       "      <td>32</td>\n",
       "      <td>1.529700</td>\n",
       "    </tr>\n",
       "    <tr>\n",
       "      <td>40</td>\n",
       "      <td>1.462000</td>\n",
       "    </tr>\n",
       "    <tr>\n",
       "      <td>48</td>\n",
       "      <td>1.513200</td>\n",
       "    </tr>\n",
       "    <tr>\n",
       "      <td>56</td>\n",
       "      <td>1.371700</td>\n",
       "    </tr>\n",
       "    <tr>\n",
       "      <td>64</td>\n",
       "      <td>1.463800</td>\n",
       "    </tr>\n",
       "    <tr>\n",
       "      <td>72</td>\n",
       "      <td>1.347100</td>\n",
       "    </tr>\n",
       "    <tr>\n",
       "      <td>80</td>\n",
       "      <td>1.361900</td>\n",
       "    </tr>\n",
       "    <tr>\n",
       "      <td>88</td>\n",
       "      <td>1.436700</td>\n",
       "    </tr>\n",
       "    <tr>\n",
       "      <td>96</td>\n",
       "      <td>1.250700</td>\n",
       "    </tr>\n",
       "    <tr>\n",
       "      <td>104</td>\n",
       "      <td>1.437000</td>\n",
       "    </tr>\n",
       "    <tr>\n",
       "      <td>112</td>\n",
       "      <td>1.260700</td>\n",
       "    </tr>\n",
       "    <tr>\n",
       "      <td>120</td>\n",
       "      <td>1.350700</td>\n",
       "    </tr>\n",
       "    <tr>\n",
       "      <td>128</td>\n",
       "      <td>1.238300</td>\n",
       "    </tr>\n",
       "    <tr>\n",
       "      <td>136</td>\n",
       "      <td>1.336900</td>\n",
       "    </tr>\n",
       "    <tr>\n",
       "      <td>144</td>\n",
       "      <td>1.228400</td>\n",
       "    </tr>\n",
       "    <tr>\n",
       "      <td>152</td>\n",
       "      <td>1.305300</td>\n",
       "    </tr>\n",
       "    <tr>\n",
       "      <td>160</td>\n",
       "      <td>1.329400</td>\n",
       "    </tr>\n",
       "    <tr>\n",
       "      <td>168</td>\n",
       "      <td>1.285900</td>\n",
       "    </tr>\n",
       "    <tr>\n",
       "      <td>176</td>\n",
       "      <td>1.341400</td>\n",
       "    </tr>\n",
       "    <tr>\n",
       "      <td>184</td>\n",
       "      <td>1.219200</td>\n",
       "    </tr>\n",
       "    <tr>\n",
       "      <td>192</td>\n",
       "      <td>1.369100</td>\n",
       "    </tr>\n",
       "    <tr>\n",
       "      <td>200</td>\n",
       "      <td>1.332200</td>\n",
       "    </tr>\n",
       "  </tbody>\n",
       "</table><p>"
      ],
      "text/plain": [
       "<IPython.core.display.HTML object>"
      ]
     },
     "metadata": {},
     "output_type": "display_data"
    },
    {
     "name": "stderr",
     "output_type": "stream",
     "text": [
      "Saving model checkpoint to outputs/checkpoint-200\n",
      "loading configuration file config.json from cache at /home/e12329504/.cache/huggingface/hub/models--microsoft--codebert-base/snapshots/3b0952feddeffad0063f274080e3c23d75e7eb39/config.json\n",
      "Model config RobertaConfig {\n",
      "  \"architectures\": [\n",
      "    \"RobertaModel\"\n",
      "  ],\n",
      "  \"attention_probs_dropout_prob\": 0.1,\n",
      "  \"bos_token_id\": 0,\n",
      "  \"classifier_dropout\": null,\n",
      "  \"eos_token_id\": 2,\n",
      "  \"hidden_act\": \"gelu\",\n",
      "  \"hidden_dropout_prob\": 0.1,\n",
      "  \"hidden_size\": 768,\n",
      "  \"initializer_range\": 0.02,\n",
      "  \"intermediate_size\": 3072,\n",
      "  \"layer_norm_eps\": 1e-05,\n",
      "  \"max_position_embeddings\": 514,\n",
      "  \"model_type\": \"roberta\",\n",
      "  \"num_attention_heads\": 12,\n",
      "  \"num_hidden_layers\": 12,\n",
      "  \"output_past\": true,\n",
      "  \"pad_token_id\": 1,\n",
      "  \"position_embedding_type\": \"absolute\",\n",
      "  \"transformers_version\": \"4.42.0.dev0\",\n",
      "  \"type_vocab_size\": 1,\n",
      "  \"use_cache\": true,\n",
      "  \"vocab_size\": 50265\n",
      "}\n",
      "\n",
      "\n",
      "\n",
      "Training completed. Do not forget to share your model on huggingface.co/models =)\n",
      "\n",
      "\n"
     ]
    },
    {
     "data": {
      "text/plain": [
       "TrainOutput(global_step=200, training_loss=1.3752875518798828, metrics={'train_runtime': 454.9284, 'train_samples_per_second': 14.068, 'train_steps_per_second': 0.44, 'total_flos': 1710304749158400.0, 'train_loss': 1.3752875518798828, 'epoch': 0.6134969325153374})"
      ]
     },
     "execution_count": 344,
     "metadata": {},
     "output_type": "execute_result"
    }
   ],
   "source": [
    "trainer = transformers.Trainer(\n",
    "    model=model,\n",
    "    train_dataset=datasets[\"train\"],\n",
    "    eval_dataset=datasets[\"validation\"],\n",
    "    args=transformers.TrainingArguments(\n",
    "        per_device_train_batch_size=16,\n",
    "        gradient_accumulation_steps=2,\n",
    "        warmup_steps=20,\n",
    "        max_steps=200,\n",
    "        #num_train_epochs=3\n",
    "        learning_rate=1e-5,\n",
    "        fp16=True,\n",
    "        logging_steps=8,\n",
    "        output_dir=\"outputs\",\n",
    "        optim=\"paged_adamw_8bit\",\n",
    "        remove_unused_columns=False,  # To ensure all necessary columns are kept\n",
    "    ),\n",
    "    data_collator=DataCollatorWithPadding(tokenizer),\n",
    "    compute_metrics=compute_metrics,\n",
    ")\n",
    "model.config.use_cache = False  # silence the warnings. Please re-enable for inference!\n",
    "trainer.train()"
   ]
  },
  {
   "cell_type": "code",
   "execution_count": 346,
   "id": "18d56dc9-c063-4f7e-9be9-0ee99725cfec",
   "metadata": {
    "scrolled": true
   },
   "outputs": [
    {
     "name": "stderr",
     "output_type": "stream",
     "text": [
      "Saving model checkpoint to models/\n",
      "loading configuration file config.json from cache at /home/e12329504/.cache/huggingface/hub/models--microsoft--codebert-base/snapshots/3b0952feddeffad0063f274080e3c23d75e7eb39/config.json\n",
      "Model config RobertaConfig {\n",
      "  \"architectures\": [\n",
      "    \"RobertaModel\"\n",
      "  ],\n",
      "  \"attention_probs_dropout_prob\": 0.1,\n",
      "  \"bos_token_id\": 0,\n",
      "  \"classifier_dropout\": null,\n",
      "  \"eos_token_id\": 2,\n",
      "  \"hidden_act\": \"gelu\",\n",
      "  \"hidden_dropout_prob\": 0.1,\n",
      "  \"hidden_size\": 768,\n",
      "  \"initializer_range\": 0.02,\n",
      "  \"intermediate_size\": 3072,\n",
      "  \"layer_norm_eps\": 1e-05,\n",
      "  \"max_position_embeddings\": 514,\n",
      "  \"model_type\": \"roberta\",\n",
      "  \"num_attention_heads\": 12,\n",
      "  \"num_hidden_layers\": 12,\n",
      "  \"output_past\": true,\n",
      "  \"pad_token_id\": 1,\n",
      "  \"position_embedding_type\": \"absolute\",\n",
      "  \"transformers_version\": \"4.42.0.dev0\",\n",
      "  \"type_vocab_size\": 1,\n",
      "  \"use_cache\": true,\n",
      "  \"vocab_size\": 50265\n",
      "}\n",
      "\n",
      "tokenizer config file saved in tokenizers/tokenizer_config.json\n",
      "Special tokens file saved in tokenizers/special_tokens_map.json\n"
     ]
    },
    {
     "data": {
      "text/plain": [
       "('tokenizers/tokenizer_config.json',\n",
       " 'tokenizers/special_tokens_map.json',\n",
       " 'tokenizers/vocab.json',\n",
       " 'tokenizers/merges.txt',\n",
       " 'tokenizers/added_tokens.json',\n",
       " 'tokenizers/tokenizer.json')"
      ]
     },
     "execution_count": 346,
     "metadata": {},
     "output_type": "execute_result"
    }
   ],
   "source": [
    "trainer.save_model(\"models/\")\n",
    "tokenizer.save_pretrained(\"tokenizers/\")"
   ]
  },
  {
   "cell_type": "code",
   "execution_count": 347,
   "id": "20dfffe7-d223-4522-9528-309e082c824f",
   "metadata": {},
   "outputs": [
    {
     "name": "stderr",
     "output_type": "stream",
     "text": [
      "\n",
      "***** Running Prediction *****\n",
      "  Num examples = 1451\n",
      "  Batch size = 8\n"
     ]
    },
    {
     "data": {
      "text/html": [],
      "text/plain": [
       "<IPython.core.display.HTML object>"
      ]
     },
     "metadata": {},
     "output_type": "display_data"
    },
    {
     "name": "stdout",
     "output_type": "stream",
     "text": [
      "Accuracy: 0.5589248793935218\n",
      "Precision: 0.3123970208050628\n",
      "Recall: 0.5589248793935218\n",
      "F1 Score: 0.4007852141362918\n"
     ]
    },
    {
     "name": "stderr",
     "output_type": "stream",
     "text": [
      "/opt/conda/lib/python3.11/site-packages/sklearn/metrics/_classification.py:1344: UndefinedMetricWarning: Precision and F-score are ill-defined and being set to 0.0 in labels with no predicted samples. Use `zero_division` parameter to control this behavior.\n",
      "  _warn_prf(average, modifier, msg_start, len(result))\n"
     ]
    }
   ],
   "source": [
    "prediction = trainer.predict(datasets[\"validation\"])\n",
    "predicted_labels = prediction.predictions[1]\n",
    "y_hat = np.argmax(predicted_labels, axis=-1).flatten()\n",
    "y = datasets[\"validation\"][\"labels\"]\n",
    "\n",
    "accuracy = accuracy_score(y, y_hat)\n",
    "\n",
    "# Calculate precision, recall, and F1 score\n",
    "precision, recall, f1, _ = precision_recall_fscore_support(y, y_hat, average='weighted')\n",
    "\n",
    "# auc = roc_auc_score(y, predicted_labels, multi_class='ovr', average='weighted')\n",
    "\n",
    "\n",
    "with open('results/eval_results_' + datetime.now().strftime(\"%Y%m%d_%H%M%S\"), 'w') as f:\n",
    "    json.dump(f\"Accuracy: {accuracy}\" \n",
    "                + f\", Precision: {precision}\" \n",
    "                + f\", Recall: {recall}\" \n",
    "                + f\", F1 Score: {f1}\"\n",
    "                # + f\", RocAucScore: {auc}\"\n",
    "                , f, indent=4\n",
    ")\n",
    "\n",
    "# Print the metrics\n",
    "print(f\"Accuracy: {accuracy}\")\n",
    "print(f\"Precision: {precision}\")\n",
    "print(f\"Recall: {recall}\")\n",
    "print(f\"F1 Score: {f1}\")\n",
    "#print(f\"RocAucScore: {auc}\")"
   ]
  },
  {
   "cell_type": "markdown",
   "id": "6e3842b1-34de-4db2-8247-ffa3947a8300",
   "metadata": {},
   "source": [
    "#### Sliding Window Approach instead of filtering"
   ]
  },
  {
   "cell_type": "code",
   "execution_count": 348,
   "id": "80c91e35-8d1d-46db-9859-81d899eef41e",
   "metadata": {},
   "outputs": [
    {
     "name": "stderr",
     "output_type": "stream",
     "text": [
      "loading configuration file config.json from cache at /home/e12329504/.cache/huggingface/hub/models--microsoft--codebert-base/snapshots/3b0952feddeffad0063f274080e3c23d75e7eb39/config.json\n",
      "Model config RobertaConfig {\n",
      "  \"_name_or_path\": \"microsoft/codebert-base\",\n",
      "  \"architectures\": [\n",
      "    \"RobertaModel\"\n",
      "  ],\n",
      "  \"attention_probs_dropout_prob\": 0.1,\n",
      "  \"bos_token_id\": 0,\n",
      "  \"classifier_dropout\": null,\n",
      "  \"eos_token_id\": 2,\n",
      "  \"hidden_act\": \"gelu\",\n",
      "  \"hidden_dropout_prob\": 0.1,\n",
      "  \"hidden_size\": 768,\n",
      "  \"id2label\": {\n",
      "    \"0\": \"LABEL_0\",\n",
      "    \"1\": \"LABEL_1\",\n",
      "    \"2\": \"LABEL_2\",\n",
      "    \"3\": \"LABEL_3\",\n",
      "    \"4\": \"LABEL_4\",\n",
      "    \"5\": \"LABEL_5\"\n",
      "  },\n",
      "  \"initializer_range\": 0.02,\n",
      "  \"intermediate_size\": 3072,\n",
      "  \"label2id\": {\n",
      "    \"LABEL_0\": 0,\n",
      "    \"LABEL_1\": 1,\n",
      "    \"LABEL_2\": 2,\n",
      "    \"LABEL_3\": 3,\n",
      "    \"LABEL_4\": 4,\n",
      "    \"LABEL_5\": 5\n",
      "  },\n",
      "  \"layer_norm_eps\": 1e-05,\n",
      "  \"max_position_embeddings\": 514,\n",
      "  \"model_type\": \"roberta\",\n",
      "  \"num_attention_heads\": 12,\n",
      "  \"num_hidden_layers\": 12,\n",
      "  \"output_past\": true,\n",
      "  \"pad_token_id\": 1,\n",
      "  \"position_embedding_type\": \"absolute\",\n",
      "  \"transformers_version\": \"4.42.0.dev0\",\n",
      "  \"type_vocab_size\": 1,\n",
      "  \"use_cache\": true,\n",
      "  \"vocab_size\": 50265\n",
      "}\n",
      "\n",
      "Overriding torch_dtype=None with `torch_dtype=torch.float16` due to requirements of `bitsandbytes` to enable model loading in 8-bit or 4-bit. Pass your own torch_dtype to specify the dtype of the remaining non-linear layers or pass torch_dtype=torch.float16 to remove this warning.\n"
     ]
    },
    {
     "name": "stdout",
     "output_type": "stream",
     "text": [
      "Starting to load the model microsoft/codebert-base into memory\n"
     ]
    },
    {
     "name": "stderr",
     "output_type": "stream",
     "text": [
      "loading weights file pytorch_model.bin from cache at /home/e12329504/.cache/huggingface/hub/models--microsoft--codebert-base/snapshots/3b0952feddeffad0063f274080e3c23d75e7eb39/pytorch_model.bin\n",
      "Instantiating RobertaForSequenceClassification model under default dtype torch.float16.\n",
      "Some weights of the model checkpoint at microsoft/codebert-base were not used when initializing RobertaForSequenceClassification: ['pooler.dense.bias', 'pooler.dense.weight']\n",
      "- This IS expected if you are initializing RobertaForSequenceClassification from the checkpoint of a model trained on another task or with another architecture (e.g. initializing a BertForSequenceClassification model from a BertForPreTraining model).\n",
      "- This IS NOT expected if you are initializing RobertaForSequenceClassification from the checkpoint of a model that you expect to be exactly identical (initializing a BertForSequenceClassification model from a BertForSequenceClassification model).\n",
      "Some weights of RobertaForSequenceClassification were not initialized from the model checkpoint at microsoft/codebert-base and are newly initialized: ['classifier.dense.bias', 'classifier.dense.weight', 'classifier.out_proj.bias', 'classifier.out_proj.weight']\n",
      "You should probably TRAIN this model on a down-stream task to be able to use it for predictions and inference.\n"
     ]
    },
    {
     "name": "stdout",
     "output_type": "stream",
     "text": [
      "Successfully loaded the model microsoft/codebert-base into memory\n",
      "trainable params: 1339392 || all params: 83227398 || trainable%: 1.6093162013787816\n"
     ]
    }
   ],
   "source": [
    "from transformers import AutoTokenizer, AutoModelForCausalLM, BitsAndBytesConfig, AutoModelForSequenceClassification\n",
    "\n",
    "model_id = \"microsoft/codebert-base\"\n",
    "\n",
    "print(f\"Starting to load the model {model_id} into memory\")\n",
    "\n",
    "bnb_config = BitsAndBytesConfig(\n",
    "    load_in_4bit=True,\n",
    "    bnb_4bit_use_double_quant=True,\n",
    "    bnb_4bit_quant_type=\"nf4\",\n",
    "    bnb_4bit_compute_dtype=torch.float16\n",
    ")\n",
    "try:\n",
    "    model = AutoModelForSequenceClassification.from_pretrained(\n",
    "        model_id, \n",
    "        quantization_config=bnb_config, \n",
    "        device_map={\"\":0},\n",
    "        num_labels=unique_count\n",
    "    )\n",
    "    print(f\"Successfully loaded the model {model_id} into memory\")\n",
    "except Exception as e:\n",
    "    print(f\"Error loading model: {e}\")\n",
    "\n",
    "from peft import prepare_model_for_kbit_training\n",
    "\n",
    "model.gradient_checkpointing_enable()\n",
    "model = prepare_model_for_kbit_training(model)\n",
    "\n",
    "def print_trainable_parameters(model):\n",
    "    \"\"\"\n",
    "    Prints the number of trainable parameters in the model.\n",
    "    \"\"\"\n",
    "    trainable_params = 0\n",
    "    all_param = 0\n",
    "    for _, param in model.named_parameters():\n",
    "        all_param += param.numel()\n",
    "        if param.requires_grad:\n",
    "            trainable_params += param.numel()\n",
    "    print(\n",
    "        f\"trainable params: {trainable_params} || all params: {all_param} || trainable%: {100 * trainable_params / all_param}\"\n",
    "    )\n",
    "\n",
    "from peft import LoraConfig, get_peft_model\n",
    "\n",
    "config = LoraConfig(\n",
    "    r=8, \n",
    "    lora_alpha=32, \n",
    "    target_modules=[\"query\", \"key\", \"value\", \"dense\"],  # Adjusted based on CodeBert Architecture\n",
    "    lora_dropout=0.05, \n",
    "    bias=\"none\", \n",
    "    task_type=\"SequenceClassification\"\n",
    ")\n",
    "\n",
    "model = get_peft_model(model, config)\n",
    "print_trainable_parameters(model)"
   ]
  },
  {
   "cell_type": "code",
   "execution_count": 349,
   "id": "a3199616-bd49-4a10-a186-d1ef9bc1e281",
   "metadata": {},
   "outputs": [
    {
     "name": "stderr",
     "output_type": "stream",
     "text": [
      "PyTorch: setting up devices\n",
      "The default value for the training argument `--report_to` will change in v5 (from all installed integrations to none). In v5, you will need to use `--report_to all` to get the same behavior as now. You should start updating your code and make this info disappear :-).\n",
      "max_steps is given, it will override any value given in num_train_epochs\n",
      "Using auto half precision backend\n",
      "***** Running training *****\n",
      "  Num examples = 67,147\n",
      "  Num Epochs = 1\n",
      "  Instantaneous batch size per device = 16\n",
      "  Total train batch size (w. parallel, distributed & accumulation) = 32\n",
      "  Gradient Accumulation steps = 2\n",
      "  Total optimization steps = 200\n",
      "  Number of trainable parameters = 1,339,392\n",
      "Automatic Weights & Biases logging enabled, to disable set os.environ[\"WANDB_DISABLED\"] = \"true\"\n",
      "/opt/conda/lib/python3.11/site-packages/torch/utils/checkpoint.py:464: UserWarning: torch.utils.checkpoint: the use_reentrant parameter should be passed explicitly. In version 2.4 we will raise an exception if use_reentrant is not passed. use_reentrant=False is recommended, but if you need to preserve the current default behavior, you can pass use_reentrant=True. Refer to docs for more details on the differences between the two variants.\n",
      "  warnings.warn(\n"
     ]
    },
    {
     "data": {
      "text/html": [
       "\n",
       "    <div>\n",
       "      \n",
       "      <progress value='200' max='200' style='width:300px; height:20px; vertical-align: middle;'></progress>\n",
       "      [200/200 07:32, Epoch 0/1]\n",
       "    </div>\n",
       "    <table border=\"1\" class=\"dataframe\">\n",
       "  <thead>\n",
       " <tr style=\"text-align: left;\">\n",
       "      <th>Step</th>\n",
       "      <th>Training Loss</th>\n",
       "    </tr>\n",
       "  </thead>\n",
       "  <tbody>\n",
       "    <tr>\n",
       "      <td>8</td>\n",
       "      <td>1.846500</td>\n",
       "    </tr>\n",
       "    <tr>\n",
       "      <td>16</td>\n",
       "      <td>1.680000</td>\n",
       "    </tr>\n",
       "    <tr>\n",
       "      <td>24</td>\n",
       "      <td>1.437600</td>\n",
       "    </tr>\n",
       "    <tr>\n",
       "      <td>32</td>\n",
       "      <td>1.370000</td>\n",
       "    </tr>\n",
       "    <tr>\n",
       "      <td>40</td>\n",
       "      <td>1.323700</td>\n",
       "    </tr>\n",
       "    <tr>\n",
       "      <td>48</td>\n",
       "      <td>1.470000</td>\n",
       "    </tr>\n",
       "    <tr>\n",
       "      <td>56</td>\n",
       "      <td>1.257100</td>\n",
       "    </tr>\n",
       "    <tr>\n",
       "      <td>64</td>\n",
       "      <td>1.272700</td>\n",
       "    </tr>\n",
       "    <tr>\n",
       "      <td>72</td>\n",
       "      <td>1.344500</td>\n",
       "    </tr>\n",
       "    <tr>\n",
       "      <td>80</td>\n",
       "      <td>1.338000</td>\n",
       "    </tr>\n",
       "    <tr>\n",
       "      <td>88</td>\n",
       "      <td>1.354200</td>\n",
       "    </tr>\n",
       "    <tr>\n",
       "      <td>96</td>\n",
       "      <td>1.298900</td>\n",
       "    </tr>\n",
       "    <tr>\n",
       "      <td>104</td>\n",
       "      <td>1.214400</td>\n",
       "    </tr>\n",
       "    <tr>\n",
       "      <td>112</td>\n",
       "      <td>1.374600</td>\n",
       "    </tr>\n",
       "    <tr>\n",
       "      <td>120</td>\n",
       "      <td>1.282400</td>\n",
       "    </tr>\n",
       "    <tr>\n",
       "      <td>128</td>\n",
       "      <td>1.240900</td>\n",
       "    </tr>\n",
       "    <tr>\n",
       "      <td>136</td>\n",
       "      <td>1.211900</td>\n",
       "    </tr>\n",
       "    <tr>\n",
       "      <td>144</td>\n",
       "      <td>1.230000</td>\n",
       "    </tr>\n",
       "    <tr>\n",
       "      <td>152</td>\n",
       "      <td>1.210200</td>\n",
       "    </tr>\n",
       "    <tr>\n",
       "      <td>160</td>\n",
       "      <td>1.142300</td>\n",
       "    </tr>\n",
       "    <tr>\n",
       "      <td>168</td>\n",
       "      <td>1.080400</td>\n",
       "    </tr>\n",
       "    <tr>\n",
       "      <td>176</td>\n",
       "      <td>1.217100</td>\n",
       "    </tr>\n",
       "    <tr>\n",
       "      <td>184</td>\n",
       "      <td>1.169600</td>\n",
       "    </tr>\n",
       "    <tr>\n",
       "      <td>192</td>\n",
       "      <td>1.053900</td>\n",
       "    </tr>\n",
       "    <tr>\n",
       "      <td>200</td>\n",
       "      <td>1.059600</td>\n",
       "    </tr>\n",
       "  </tbody>\n",
       "</table><p>"
      ],
      "text/plain": [
       "<IPython.core.display.HTML object>"
      ]
     },
     "metadata": {},
     "output_type": "display_data"
    },
    {
     "name": "stderr",
     "output_type": "stream",
     "text": [
      "Saving model checkpoint to outputs/checkpoint-200\n",
      "loading configuration file config.json from cache at /home/e12329504/.cache/huggingface/hub/models--microsoft--codebert-base/snapshots/3b0952feddeffad0063f274080e3c23d75e7eb39/config.json\n",
      "Model config RobertaConfig {\n",
      "  \"architectures\": [\n",
      "    \"RobertaModel\"\n",
      "  ],\n",
      "  \"attention_probs_dropout_prob\": 0.1,\n",
      "  \"bos_token_id\": 0,\n",
      "  \"classifier_dropout\": null,\n",
      "  \"eos_token_id\": 2,\n",
      "  \"hidden_act\": \"gelu\",\n",
      "  \"hidden_dropout_prob\": 0.1,\n",
      "  \"hidden_size\": 768,\n",
      "  \"initializer_range\": 0.02,\n",
      "  \"intermediate_size\": 3072,\n",
      "  \"layer_norm_eps\": 1e-05,\n",
      "  \"max_position_embeddings\": 514,\n",
      "  \"model_type\": \"roberta\",\n",
      "  \"num_attention_heads\": 12,\n",
      "  \"num_hidden_layers\": 12,\n",
      "  \"output_past\": true,\n",
      "  \"pad_token_id\": 1,\n",
      "  \"position_embedding_type\": \"absolute\",\n",
      "  \"transformers_version\": \"4.42.0.dev0\",\n",
      "  \"type_vocab_size\": 1,\n",
      "  \"use_cache\": true,\n",
      "  \"vocab_size\": 50265\n",
      "}\n",
      "\n",
      "\n",
      "\n",
      "Training completed. Do not forget to share your model on huggingface.co/models =)\n",
      "\n",
      "\n"
     ]
    },
    {
     "data": {
      "text/plain": [
       "TrainOutput(global_step=200, training_loss=1.2992241477966309, metrics={'train_runtime': 455.1606, 'train_samples_per_second': 14.061, 'train_steps_per_second': 0.439, 'total_flos': 1710304749158400.0, 'train_loss': 1.2992241477966309, 'epoch': 0.09530617107457708})"
      ]
     },
     "execution_count": 349,
     "metadata": {},
     "output_type": "execute_result"
    }
   ],
   "source": [
    "trainer_expanded = transformers.Trainer(\n",
    "    model=model,\n",
    "    train_dataset=datasets_expanded[\"train\"],\n",
    "    eval_dataset=datasets_expanded[\"validation\"],\n",
    "    args=transformers.TrainingArguments(\n",
    "        per_device_train_batch_size=16,\n",
    "        gradient_accumulation_steps=2,\n",
    "        warmup_steps=20,\n",
    "        max_steps=200,\n",
    "        learning_rate=2e-4,\n",
    "        fp16=True,\n",
    "        logging_steps=8,\n",
    "        output_dir=\"outputs\",\n",
    "        optim=\"paged_adamw_8bit\",\n",
    "        remove_unused_columns=False,  # To ensure all necessary columns are kept\n",
    "    ),\n",
    "    data_collator=DataCollatorWithPadding(tokenizer),\n",
    "    compute_metrics=compute_metrics,\n",
    ")\n",
    "model.config.use_cache = False  # silence the warnings. Please re-enable for inference!\n",
    "trainer_expanded.train()"
   ]
  },
  {
   "cell_type": "code",
   "execution_count": 350,
   "id": "a9612232-28d2-42d6-b83b-f59235153441",
   "metadata": {},
   "outputs": [
    {
     "name": "stderr",
     "output_type": "stream",
     "text": [
      "Saving model checkpoint to models_expanded/\n",
      "loading configuration file config.json from cache at /home/e12329504/.cache/huggingface/hub/models--microsoft--codebert-base/snapshots/3b0952feddeffad0063f274080e3c23d75e7eb39/config.json\n",
      "Model config RobertaConfig {\n",
      "  \"architectures\": [\n",
      "    \"RobertaModel\"\n",
      "  ],\n",
      "  \"attention_probs_dropout_prob\": 0.1,\n",
      "  \"bos_token_id\": 0,\n",
      "  \"classifier_dropout\": null,\n",
      "  \"eos_token_id\": 2,\n",
      "  \"hidden_act\": \"gelu\",\n",
      "  \"hidden_dropout_prob\": 0.1,\n",
      "  \"hidden_size\": 768,\n",
      "  \"initializer_range\": 0.02,\n",
      "  \"intermediate_size\": 3072,\n",
      "  \"layer_norm_eps\": 1e-05,\n",
      "  \"max_position_embeddings\": 514,\n",
      "  \"model_type\": \"roberta\",\n",
      "  \"num_attention_heads\": 12,\n",
      "  \"num_hidden_layers\": 12,\n",
      "  \"output_past\": true,\n",
      "  \"pad_token_id\": 1,\n",
      "  \"position_embedding_type\": \"absolute\",\n",
      "  \"transformers_version\": \"4.42.0.dev0\",\n",
      "  \"type_vocab_size\": 1,\n",
      "  \"use_cache\": true,\n",
      "  \"vocab_size\": 50265\n",
      "}\n",
      "\n"
     ]
    }
   ],
   "source": [
    "trainer_expanded.save_model(\"models_expanded/\")"
   ]
  },
  {
   "cell_type": "code",
   "execution_count": 351,
   "id": "63c86f0a-d403-41f0-a940-85695121f6a7",
   "metadata": {},
   "outputs": [
    {
     "name": "stderr",
     "output_type": "stream",
     "text": [
      "\n",
      "***** Running Prediction *****\n",
      "  Num examples = 9192\n",
      "  Batch size = 8\n"
     ]
    },
    {
     "data": {
      "text/html": [],
      "text/plain": [
       "<IPython.core.display.HTML object>"
      ]
     },
     "metadata": {},
     "output_type": "display_data"
    },
    {
     "name": "stdout",
     "output_type": "stream",
     "text": [
      "Accuracy: 0.5290469973890339\n",
      "Precision: 0.27989072544635246\n",
      "Recall: 0.5290469973890339\n",
      "F1 Score: 0.3660982637215044\n"
     ]
    },
    {
     "name": "stderr",
     "output_type": "stream",
     "text": [
      "/opt/conda/lib/python3.11/site-packages/sklearn/metrics/_classification.py:1344: UndefinedMetricWarning: Precision and F-score are ill-defined and being set to 0.0 in labels with no predicted samples. Use `zero_division` parameter to control this behavior.\n",
      "  _warn_prf(average, modifier, msg_start, len(result))\n"
     ]
    }
   ],
   "source": [
    "def sample_fraction(dataset, fraction):\n",
    "    # Calculate the number of samples to take\n",
    "    num_samples = int(len(dataset) * fraction)\n",
    "    \n",
    "    # Generate random indices\n",
    "    indices = np.random.choice(len(dataset), num_samples, replace=False)\n",
    "    \n",
    "    # Select the samples\n",
    "    sampled_dataset = dataset.select(indices)\n",
    "    \n",
    "    return sampled_dataset\n",
    "\n",
    "data = sample_fraction(datasets_expanded[\"validation\"], FRACTION)\n",
    "\n",
    "prediction_expanded = trainer.predict(data)\n",
    "predicted_labels_expanded = prediction_expanded.predictions[1]\n",
    "y_hat_expanded = np.argmax(predicted_labels_expanded, axis=-1).flatten()\n",
    "y_expanded = data[\"labels\"]\n",
    "\n",
    "accuracy = accuracy_score(y_expanded, y_hat_expanded)\n",
    "\n",
    "# Calculate precision, recall, and F1 score\n",
    "precision, recall, f1, _ = precision_recall_fscore_support(y_expanded, y_hat_expanded, average='weighted')\n",
    "\n",
    "# auc = roc_auc_score(y, predicted_labels, multi_class='ovr', average='weighted')\n",
    "\n",
    "\n",
    "with open('results/eval_results_expanded_' + datetime.now().strftime(\"%Y%m%d_%H%M%S\"), 'w') as f:\n",
    "    json.dump(f\"Accuracy: {accuracy}\" \n",
    "                + f\", Precision: {precision}\" \n",
    "                + f\", Recall: {recall}\" \n",
    "                + f\", F1 Score: {f1}\"\n",
    "                # + f\", RocAucScore: {auc}\"\n",
    "                , f, indent=4\n",
    ")\n",
    "\n",
    "# Print the metrics\n",
    "print(f\"Accuracy: {accuracy}\")\n",
    "print(f\"Precision: {precision}\")\n",
    "print(f\"Recall: {recall}\")\n",
    "print(f\"F1 Score: {f1}\")\n",
    "#print(f\"RocAucScore: {auc}\")"
   ]
  },
  {
   "cell_type": "markdown",
   "id": "6b0ccda0-dad5-43ad-94c6-d2017c2b6d0b",
   "metadata": {},
   "source": [
    "#### Combined Training"
   ]
  },
  {
   "cell_type": "code",
   "execution_count": 352,
   "id": "3de2ef60-f94b-4263-8d8e-19182e8a7cb3",
   "metadata": {},
   "outputs": [
    {
     "name": "stderr",
     "output_type": "stream",
     "text": [
      "loading configuration file config.json from cache at /home/e12329504/.cache/huggingface/hub/models--microsoft--codebert-base/snapshots/3b0952feddeffad0063f274080e3c23d75e7eb39/config.json\n",
      "Model config RobertaConfig {\n",
      "  \"_name_or_path\": \"microsoft/codebert-base\",\n",
      "  \"architectures\": [\n",
      "    \"RobertaModel\"\n",
      "  ],\n",
      "  \"attention_probs_dropout_prob\": 0.1,\n",
      "  \"bos_token_id\": 0,\n",
      "  \"classifier_dropout\": null,\n",
      "  \"eos_token_id\": 2,\n",
      "  \"hidden_act\": \"gelu\",\n",
      "  \"hidden_dropout_prob\": 0.1,\n",
      "  \"hidden_size\": 768,\n",
      "  \"id2label\": {\n",
      "    \"0\": \"LABEL_0\",\n",
      "    \"1\": \"LABEL_1\",\n",
      "    \"2\": \"LABEL_2\",\n",
      "    \"3\": \"LABEL_3\",\n",
      "    \"4\": \"LABEL_4\",\n",
      "    \"5\": \"LABEL_5\"\n",
      "  },\n",
      "  \"initializer_range\": 0.02,\n",
      "  \"intermediate_size\": 3072,\n",
      "  \"label2id\": {\n",
      "    \"LABEL_0\": 0,\n",
      "    \"LABEL_1\": 1,\n",
      "    \"LABEL_2\": 2,\n",
      "    \"LABEL_3\": 3,\n",
      "    \"LABEL_4\": 4,\n",
      "    \"LABEL_5\": 5\n",
      "  },\n",
      "  \"layer_norm_eps\": 1e-05,\n",
      "  \"max_position_embeddings\": 514,\n",
      "  \"model_type\": \"roberta\",\n",
      "  \"num_attention_heads\": 12,\n",
      "  \"num_hidden_layers\": 12,\n",
      "  \"output_past\": true,\n",
      "  \"pad_token_id\": 1,\n",
      "  \"position_embedding_type\": \"absolute\",\n",
      "  \"transformers_version\": \"4.42.0.dev0\",\n",
      "  \"type_vocab_size\": 1,\n",
      "  \"use_cache\": true,\n",
      "  \"vocab_size\": 50265\n",
      "}\n",
      "\n",
      "Overriding torch_dtype=None with `torch_dtype=torch.float16` due to requirements of `bitsandbytes` to enable model loading in 8-bit or 4-bit. Pass your own torch_dtype to specify the dtype of the remaining non-linear layers or pass torch_dtype=torch.float16 to remove this warning.\n"
     ]
    },
    {
     "name": "stdout",
     "output_type": "stream",
     "text": [
      "Starting to load the model microsoft/codebert-base into memory\n"
     ]
    },
    {
     "name": "stderr",
     "output_type": "stream",
     "text": [
      "loading weights file pytorch_model.bin from cache at /home/e12329504/.cache/huggingface/hub/models--microsoft--codebert-base/snapshots/3b0952feddeffad0063f274080e3c23d75e7eb39/pytorch_model.bin\n",
      "Instantiating RobertaForSequenceClassification model under default dtype torch.float16.\n",
      "Some weights of the model checkpoint at microsoft/codebert-base were not used when initializing RobertaForSequenceClassification: ['pooler.dense.bias', 'pooler.dense.weight']\n",
      "- This IS expected if you are initializing RobertaForSequenceClassification from the checkpoint of a model trained on another task or with another architecture (e.g. initializing a BertForSequenceClassification model from a BertForPreTraining model).\n",
      "- This IS NOT expected if you are initializing RobertaForSequenceClassification from the checkpoint of a model that you expect to be exactly identical (initializing a BertForSequenceClassification model from a BertForSequenceClassification model).\n",
      "Some weights of RobertaForSequenceClassification were not initialized from the model checkpoint at microsoft/codebert-base and are newly initialized: ['classifier.dense.bias', 'classifier.dense.weight', 'classifier.out_proj.bias', 'classifier.out_proj.weight']\n",
      "You should probably TRAIN this model on a down-stream task to be able to use it for predictions and inference.\n"
     ]
    },
    {
     "name": "stdout",
     "output_type": "stream",
     "text": [
      "Successfully loaded the model microsoft/codebert-base into memory\n",
      "trainable params: 1339392 || all params: 83227398 || trainable%: 1.6093162013787816\n"
     ]
    }
   ],
   "source": [
    "from transformers import AutoTokenizer, AutoModelForCausalLM, BitsAndBytesConfig, AutoModelForSequenceClassification\n",
    "\n",
    "model_id = \"microsoft/codebert-base\"\n",
    "\n",
    "print(f\"Starting to load the model {model_id} into memory\")\n",
    "\n",
    "bnb_config = BitsAndBytesConfig(\n",
    "    load_in_4bit=True,\n",
    "    bnb_4bit_use_double_quant=True,\n",
    "    bnb_4bit_quant_type=\"nf4\",\n",
    "    bnb_4bit_compute_dtype=torch.float16\n",
    ")\n",
    "try:\n",
    "    model = AutoModelForSequenceClassification.from_pretrained(\n",
    "        model_id, \n",
    "        quantization_config=bnb_config, \n",
    "        device_map={\"\":0},\n",
    "        num_labels=unique_count\n",
    "    )\n",
    "    print(f\"Successfully loaded the model {model_id} into memory\")\n",
    "except Exception as e:\n",
    "    print(f\"Error loading model: {e}\")\n",
    "\n",
    "from peft import prepare_model_for_kbit_training\n",
    "\n",
    "model.gradient_checkpointing_enable()\n",
    "model = prepare_model_for_kbit_training(model)\n",
    "\n",
    "def print_trainable_parameters(model):\n",
    "    \"\"\"\n",
    "    Prints the number of trainable parameters in the model.\n",
    "    \"\"\"\n",
    "    trainable_params = 0\n",
    "    all_param = 0\n",
    "    for _, param in model.named_parameters():\n",
    "        all_param += param.numel()\n",
    "        if param.requires_grad:\n",
    "            trainable_params += param.numel()\n",
    "    print(\n",
    "        f\"trainable params: {trainable_params} || all params: {all_param} || trainable%: {100 * trainable_params / all_param}\"\n",
    "    )\n",
    "\n",
    "from peft import LoraConfig, get_peft_model\n",
    "\n",
    "config = LoraConfig(\n",
    "    r=8, \n",
    "    lora_alpha=32, \n",
    "    target_modules=[\"query\", \"key\", \"value\", \"dense\"],  # Adjusted based on CodeBert Architecture\n",
    "    lora_dropout=0.05, \n",
    "    bias=\"none\", \n",
    "    task_type=\"SequenceClassification\"\n",
    ")\n",
    "\n",
    "model = get_peft_model(model, config)\n",
    "print_trainable_parameters(model)"
   ]
  },
  {
   "cell_type": "code",
   "execution_count": 356,
   "id": "b5d48240-828f-4d1b-bb59-f76858e150c3",
   "metadata": {},
   "outputs": [
    {
     "name": "stderr",
     "output_type": "stream",
     "text": [
      "PyTorch: setting up devices\n",
      "The default value for the training argument `--report_to` will change in v5 (from all installed integrations to none). In v5, you will need to use `--report_to all` to get the same behavior as now. You should start updating your code and make this info disappear :-).\n",
      "max_steps is given, it will override any value given in num_train_epochs\n",
      "Using auto half precision backend\n",
      "***** Running training *****\n",
      "  Num examples = 21,157\n",
      "  Num Epochs = 1\n",
      "  Instantaneous batch size per device = 16\n",
      "  Total train batch size (w. parallel, distributed & accumulation) = 32\n",
      "  Gradient Accumulation steps = 2\n",
      "  Total optimization steps = 200\n",
      "  Number of trainable parameters = 1,339,392\n",
      "Automatic Weights & Biases logging enabled, to disable set os.environ[\"WANDB_DISABLED\"] = \"true\"\n",
      "/opt/conda/lib/python3.11/site-packages/torch/utils/checkpoint.py:464: UserWarning: torch.utils.checkpoint: the use_reentrant parameter should be passed explicitly. In version 2.4 we will raise an exception if use_reentrant is not passed. use_reentrant=False is recommended, but if you need to preserve the current default behavior, you can pass use_reentrant=True. Refer to docs for more details on the differences between the two variants.\n",
      "  warnings.warn(\n"
     ]
    },
    {
     "data": {
      "text/html": [
       "\n",
       "    <div>\n",
       "      \n",
       "      <progress value='200' max='200' style='width:300px; height:20px; vertical-align: middle;'></progress>\n",
       "      [200/200 07:29, Epoch 0/1]\n",
       "    </div>\n",
       "    <table border=\"1\" class=\"dataframe\">\n",
       "  <thead>\n",
       " <tr style=\"text-align: left;\">\n",
       "      <th>Step</th>\n",
       "      <th>Training Loss</th>\n",
       "    </tr>\n",
       "  </thead>\n",
       "  <tbody>\n",
       "    <tr>\n",
       "      <td>8</td>\n",
       "      <td>0.892000</td>\n",
       "    </tr>\n",
       "    <tr>\n",
       "      <td>16</td>\n",
       "      <td>1.024100</td>\n",
       "    </tr>\n",
       "    <tr>\n",
       "      <td>24</td>\n",
       "      <td>0.957100</td>\n",
       "    </tr>\n",
       "    <tr>\n",
       "      <td>32</td>\n",
       "      <td>0.992600</td>\n",
       "    </tr>\n",
       "    <tr>\n",
       "      <td>40</td>\n",
       "      <td>0.916000</td>\n",
       "    </tr>\n",
       "    <tr>\n",
       "      <td>48</td>\n",
       "      <td>0.891700</td>\n",
       "    </tr>\n",
       "    <tr>\n",
       "      <td>56</td>\n",
       "      <td>0.858200</td>\n",
       "    </tr>\n",
       "    <tr>\n",
       "      <td>64</td>\n",
       "      <td>0.837500</td>\n",
       "    </tr>\n",
       "    <tr>\n",
       "      <td>72</td>\n",
       "      <td>0.850600</td>\n",
       "    </tr>\n",
       "    <tr>\n",
       "      <td>80</td>\n",
       "      <td>0.770500</td>\n",
       "    </tr>\n",
       "    <tr>\n",
       "      <td>88</td>\n",
       "      <td>0.728700</td>\n",
       "    </tr>\n",
       "    <tr>\n",
       "      <td>96</td>\n",
       "      <td>0.831400</td>\n",
       "    </tr>\n",
       "    <tr>\n",
       "      <td>104</td>\n",
       "      <td>0.638000</td>\n",
       "    </tr>\n",
       "    <tr>\n",
       "      <td>112</td>\n",
       "      <td>0.831000</td>\n",
       "    </tr>\n",
       "    <tr>\n",
       "      <td>120</td>\n",
       "      <td>0.895300</td>\n",
       "    </tr>\n",
       "    <tr>\n",
       "      <td>128</td>\n",
       "      <td>0.750000</td>\n",
       "    </tr>\n",
       "    <tr>\n",
       "      <td>136</td>\n",
       "      <td>0.793600</td>\n",
       "    </tr>\n",
       "    <tr>\n",
       "      <td>144</td>\n",
       "      <td>0.848400</td>\n",
       "    </tr>\n",
       "    <tr>\n",
       "      <td>152</td>\n",
       "      <td>0.821300</td>\n",
       "    </tr>\n",
       "    <tr>\n",
       "      <td>160</td>\n",
       "      <td>0.864000</td>\n",
       "    </tr>\n",
       "    <tr>\n",
       "      <td>168</td>\n",
       "      <td>0.698800</td>\n",
       "    </tr>\n",
       "    <tr>\n",
       "      <td>176</td>\n",
       "      <td>0.761900</td>\n",
       "    </tr>\n",
       "    <tr>\n",
       "      <td>184</td>\n",
       "      <td>0.838100</td>\n",
       "    </tr>\n",
       "    <tr>\n",
       "      <td>192</td>\n",
       "      <td>0.831500</td>\n",
       "    </tr>\n",
       "    <tr>\n",
       "      <td>200</td>\n",
       "      <td>0.734600</td>\n",
       "    </tr>\n",
       "  </tbody>\n",
       "</table><p>"
      ],
      "text/plain": [
       "<IPython.core.display.HTML object>"
      ]
     },
     "metadata": {},
     "output_type": "display_data"
    },
    {
     "name": "stderr",
     "output_type": "stream",
     "text": [
      "Saving model checkpoint to outputs/checkpoint-200\n",
      "loading configuration file config.json from cache at /home/e12329504/.cache/huggingface/hub/models--microsoft--codebert-base/snapshots/3b0952feddeffad0063f274080e3c23d75e7eb39/config.json\n",
      "Model config RobertaConfig {\n",
      "  \"architectures\": [\n",
      "    \"RobertaModel\"\n",
      "  ],\n",
      "  \"attention_probs_dropout_prob\": 0.1,\n",
      "  \"bos_token_id\": 0,\n",
      "  \"classifier_dropout\": null,\n",
      "  \"eos_token_id\": 2,\n",
      "  \"hidden_act\": \"gelu\",\n",
      "  \"hidden_dropout_prob\": 0.1,\n",
      "  \"hidden_size\": 768,\n",
      "  \"initializer_range\": 0.02,\n",
      "  \"intermediate_size\": 3072,\n",
      "  \"layer_norm_eps\": 1e-05,\n",
      "  \"max_position_embeddings\": 514,\n",
      "  \"model_type\": \"roberta\",\n",
      "  \"num_attention_heads\": 12,\n",
      "  \"num_hidden_layers\": 12,\n",
      "  \"output_past\": true,\n",
      "  \"pad_token_id\": 1,\n",
      "  \"position_embedding_type\": \"absolute\",\n",
      "  \"transformers_version\": \"4.42.0.dev0\",\n",
      "  \"type_vocab_size\": 1,\n",
      "  \"use_cache\": true,\n",
      "  \"vocab_size\": 50265\n",
      "}\n",
      "\n",
      "\n",
      "\n",
      "Training completed. Do not forget to share your model on huggingface.co/models =)\n",
      "\n",
      "\n"
     ]
    },
    {
     "data": {
      "text/plain": [
       "TrainOutput(global_step=200, training_loss=0.8342809724807739, metrics={'train_runtime': 452.4094, 'train_samples_per_second': 14.146, 'train_steps_per_second': 0.442, 'total_flos': 1710304749158400.0, 'train_loss': 0.8342809724807739, 'epoch': 0.30234315948601664})"
      ]
     },
     "execution_count": 356,
     "metadata": {},
     "output_type": "execute_result"
    }
   ],
   "source": [
    "trainer_combined = transformers.Trainer(\n",
    "    model=model,\n",
    "    train_dataset=datasets_combined[\"train\"],\n",
    "    eval_dataset=datasets_combined[\"validation\"],\n",
    "    args=transformers.TrainingArguments(\n",
    "        per_device_train_batch_size=16,\n",
    "        gradient_accumulation_steps=2,\n",
    "        warmup_steps=20,\n",
    "        max_steps=200,\n",
    "        learning_rate=2e-4,\n",
    "        fp16=True,\n",
    "        logging_steps=8,\n",
    "        output_dir=\"outputs\",\n",
    "        optim=\"paged_adamw_8bit\",\n",
    "        remove_unused_columns=False,  # To ensure all necessary columns are kept\n",
    "    ),\n",
    "    data_collator=DataCollatorWithPadding(tokenizer),\n",
    "    compute_metrics=compute_metrics,\n",
    ")\n",
    "model.config.use_cache = False  # silence the warnings. Please re-enable for inference!\n",
    "trainer_combined.train()"
   ]
  },
  {
   "cell_type": "code",
   "execution_count": 357,
   "id": "e8df1d98-aac6-4c08-baa7-664754feec4c",
   "metadata": {},
   "outputs": [
    {
     "name": "stderr",
     "output_type": "stream",
     "text": [
      "Saving model checkpoint to models_combined/\n",
      "loading configuration file config.json from cache at /home/e12329504/.cache/huggingface/hub/models--microsoft--codebert-base/snapshots/3b0952feddeffad0063f274080e3c23d75e7eb39/config.json\n",
      "Model config RobertaConfig {\n",
      "  \"architectures\": [\n",
      "    \"RobertaModel\"\n",
      "  ],\n",
      "  \"attention_probs_dropout_prob\": 0.1,\n",
      "  \"bos_token_id\": 0,\n",
      "  \"classifier_dropout\": null,\n",
      "  \"eos_token_id\": 2,\n",
      "  \"hidden_act\": \"gelu\",\n",
      "  \"hidden_dropout_prob\": 0.1,\n",
      "  \"hidden_size\": 768,\n",
      "  \"initializer_range\": 0.02,\n",
      "  \"intermediate_size\": 3072,\n",
      "  \"layer_norm_eps\": 1e-05,\n",
      "  \"max_position_embeddings\": 514,\n",
      "  \"model_type\": \"roberta\",\n",
      "  \"num_attention_heads\": 12,\n",
      "  \"num_hidden_layers\": 12,\n",
      "  \"output_past\": true,\n",
      "  \"pad_token_id\": 1,\n",
      "  \"position_embedding_type\": \"absolute\",\n",
      "  \"transformers_version\": \"4.42.0.dev0\",\n",
      "  \"type_vocab_size\": 1,\n",
      "  \"use_cache\": true,\n",
      "  \"vocab_size\": 50265\n",
      "}\n",
      "\n"
     ]
    }
   ],
   "source": [
    "trainer_combined.save_model(\"models_combined/\")"
   ]
  },
  {
   "cell_type": "code",
   "execution_count": 358,
   "id": "b6c03601-50eb-4230-b4cd-00bafe0dcd59",
   "metadata": {},
   "outputs": [
    {
     "name": "stderr",
     "output_type": "stream",
     "text": [
      "\n",
      "***** Running Prediction *****\n",
      "  Num examples = 2942\n",
      "  Batch size = 8\n"
     ]
    },
    {
     "data": {
      "text/html": [],
      "text/plain": [
       "<IPython.core.display.HTML object>"
      ]
     },
     "metadata": {},
     "output_type": "display_data"
    },
    {
     "name": "stdout",
     "output_type": "stream",
     "text": [
      "Accuracy: 0.5129163834126444\n",
      "Precision: 0.2630832163731069\n",
      "Recall: 0.5129163834126444\n",
      "F1 Score: 0.3477828903930265\n"
     ]
    },
    {
     "name": "stderr",
     "output_type": "stream",
     "text": [
      "/opt/conda/lib/python3.11/site-packages/sklearn/metrics/_classification.py:1344: UndefinedMetricWarning: Precision and F-score are ill-defined and being set to 0.0 in labels with no predicted samples. Use `zero_division` parameter to control this behavior.\n",
      "  _warn_prf(average, modifier, msg_start, len(result))\n"
     ]
    }
   ],
   "source": [
    "prediction_combined = trainer.predict(datasets_combined[\"validation\"])\n",
    "predicted_labels_combined = prediction_combined.predictions[1]\n",
    "y_hat_combined = np.argmax(predicted_labels_combined, axis=-1).flatten()\n",
    "y_combined = datasets_combined[\"validation\"][\"labels\"]\n",
    "\n",
    "accuracy = accuracy_score(y_combined, y_hat_combined)\n",
    "\n",
    "# Calculate precision, recall, and F1 score\n",
    "precision, recall, f1, _ = precision_recall_fscore_support(y_combined, y_hat_combined, average='weighted')\n",
    "\n",
    "# auc = roc_auc_score(y, predicted_labels, multi_class='ovr', average='weighted')\n",
    "\n",
    "\n",
    "with open('results/eval_results_combined_' + datetime.now().strftime(\"%Y%m%d_%H%M%S\"), 'w') as f:\n",
    "    json.dump(f\"Accuracy: {accuracy}\" \n",
    "                + f\", Precision: {precision}\" \n",
    "                + f\", Recall: {recall}\" \n",
    "                + f\", F1 Score: {f1}\"\n",
    "                # + f\", RocAucScore: {auc}\"\n",
    "                , f, indent=4\n",
    ")\n",
    "\n",
    "# Print the metrics\n",
    "print(f\"Accuracy: {accuracy}\")\n",
    "print(f\"Precision: {precision}\")\n",
    "print(f\"Recall: {recall}\")\n",
    "print(f\"F1 Score: {f1}\")\n",
    "#print(f\"RocAucScore: {auc}\")"
   ]
  },
  {
   "cell_type": "code",
   "execution_count": 1,
   "id": "74c79c34-828e-4b96-ba99-a39d05ca2dbe",
   "metadata": {},
   "outputs": [
    {
     "name": "stdout",
     "output_type": "stream",
     "text": [
      "\u001b[33mhint: Using 'master' as the name for the initial branch. This default branch name\u001b[m\n",
      "\u001b[33mhint: is subject to change. To configure the initial branch name to use in all\u001b[m\n",
      "\u001b[33mhint: of your new repositories, which will suppress this warning, call:\u001b[m\n",
      "\u001b[33mhint: \u001b[m\n",
      "\u001b[33mhint: \tgit config --global init.defaultBranch <name>\u001b[m\n",
      "\u001b[33mhint: \u001b[m\n",
      "\u001b[33mhint: Names commonly chosen instead of 'master' are 'main', 'trunk' and\u001b[m\n",
      "\u001b[33mhint: 'development'. The just-created branch can be renamed via this command:\u001b[m\n",
      "\u001b[33mhint: \u001b[m\n",
      "\u001b[33mhint: \tgit branch -m <name>\u001b[m\n",
      "Initialized empty Git repository in /home/e12329504/shared/194.035-2024S/groups/Gruppe_16/Crypto/.git/\n"
     ]
    }
   ],
   "source": [
    "!git init"
   ]
  },
  {
   "cell_type": "code",
   "execution_count": 2,
   "id": "d893e977-cfd1-48d2-aea1-ea3f05e4f473",
   "metadata": {},
   "outputs": [],
   "source": [
    "!git remote add origin https://github.com/DennisToma/CryptoAssetsAnalytics"
   ]
  },
  {
   "cell_type": "code",
   "execution_count": 4,
   "id": "aa6c27dc-d2a3-4d53-ad5f-b49845c51598",
   "metadata": {},
   "outputs": [],
   "source": [
    "!git add Crypto.ipynb results/eval_results_combined_20240626_124657 "
   ]
  },
  {
   "cell_type": "code",
   "execution_count": 7,
   "id": "75ced15e-fa58-439e-b154-a5c28dbf7cfd",
   "metadata": {},
   "outputs": [],
   "source": [
    "!git config --global user.email \"tomadennis1998@gmail.com\"\n",
    "!git config --global user.name \"DennisToma\""
   ]
  },
  {
   "cell_type": "code",
   "execution_count": 8,
   "id": "205f1b20-4cd2-44be-8665-079cea1c83ce",
   "metadata": {},
   "outputs": [
    {
     "name": "stdout",
     "output_type": "stream",
     "text": [
      "[master (root-commit) 976bd8f] Initial commit\n",
      " 2 files changed, 3893 insertions(+)\n",
      " create mode 100644 Crypto.ipynb\n",
      " create mode 100644 results/eval_results_combined_20240626_124657\n"
     ]
    }
   ],
   "source": [
    "!git commit -m \"Initial commit\""
   ]
  },
  {
   "cell_type": "code",
   "execution_count": null,
   "id": "584c2e54-d932-4615-9165-6bf07e3f6f5b",
   "metadata": {},
   "outputs": [
    {
     "name": "stdout",
     "output_type": "stream",
     "text": [
      "Username for 'https://github.com': "
     ]
    }
   ],
   "source": [
    "!git push -u origin master"
   ]
  },
  {
   "cell_type": "code",
   "execution_count": null,
   "id": "6eace4d4-0929-463a-bd1f-f6eca0dc0fb7",
   "metadata": {},
   "outputs": [],
   "source": []
  }
 ],
 "metadata": {
  "kernelspec": {
   "display_name": "Python 3 (ipykernel)",
   "language": "python",
   "name": "python3"
  },
  "language_info": {
   "codemirror_mode": {
    "name": "ipython",
    "version": 3
   },
   "file_extension": ".py",
   "mimetype": "text/x-python",
   "name": "python",
   "nbconvert_exporter": "python",
   "pygments_lexer": "ipython3",
   "version": "3.11.8"
  }
 },
 "nbformat": 4,
 "nbformat_minor": 5
}
